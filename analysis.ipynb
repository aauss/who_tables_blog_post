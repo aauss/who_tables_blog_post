{
 "cells": [
  {
   "cell_type": "code",
   "execution_count": 1,
   "id": "lucky-first",
   "metadata": {},
   "outputs": [],
   "source": [
    "%load_ext lab_black"
   ]
  },
  {
   "cell_type": "code",
   "execution_count": 2,
   "id": "disturbed-holly",
   "metadata": {},
   "outputs": [],
   "source": [
    "from pathlib import Path\n",
    "\n",
    "import altair as alt\n",
    "import matplotlib.pyplot as plt\n",
    "import pandas as pd\n",
    "import os\n",
    "import re\n",
    "from IPython.display import display, HTML"
   ]
  },
  {
   "cell_type": "markdown",
   "id": "smoking-austin",
   "metadata": {},
   "source": [
    "# Checking the quality and predictive power of WHO Data on COVID-19"
   ]
  },
  {
   "cell_type": "markdown",
   "id": "imposed-organic",
   "metadata": {},
   "source": [
    "# Business Understanding\n",
    "The WHO - the public health agency of the UN - has the goal to achiev the attainment of the highest possible level of health for everyone. During a pandemic, this mission becomes particularly important and difficult since the high communicability and the potentially severe course of COVID-19 imposes a large burden on people and their health system independent of any borders.\n",
    "\n",
    "To mitigate the effects of disease outbreaks, the WHO monitors public health risks and coordinates responses to health emergencies. WHO's actions depends on their collected data. [This dashboard](https://covid19.who.int/) is one of WHOs publically available information on COVID.\n",
    "\n",
    "## Questions\n",
    "- How good is the data used by the WHO?\n",
    "- Are high incidences spatially bound (i.e., stay within a region)?\n",
    "- Are epidemiological assessments increasing the performance of a machine-learning model additional to raw data? "
   ]
  },
  {
   "cell_type": "markdown",
   "id": "future-shopping",
   "metadata": {},
   "source": [
    "## Data Preparation\n",
    "\n",
    "The data was scraped using `scheduler.py`. Its mechanic is described in `scrape.ipynb`. We read in all scraped data which are a snapshot of [WHO's dashboard on COVID-19 infections](https://covid19.who.int/) and concate them to a dataframe that also functions as a timeseries. Since treating the data as a timeseries is not intended, we need to expect anomalies."
   ]
  },
  {
   "cell_type": "code",
   "execution_count": 3,
   "id": "therapeutic-electric",
   "metadata": {},
   "outputs": [],
   "source": [
    "tables = os.listdir(\"scraped/\")\n",
    "timeseries = pd.concat(\n",
    "    [\n",
    "        pd.read_csv(\"scraped/\" + file_).assign(\n",
    "            date=re.match(r\"\\D+(\\d{4}-\\d{2}-\\d{2}).+\", file_)[1]\n",
    "        )\n",
    "        for file_ in tables\n",
    "    ]\n",
    ").rename(\n",
    "    {\n",
    "        \"Cases - cumulative total\": \"cases_cumulative\",\n",
    "        \"Cases - cumulative total per 1 million population\": \"cases_cumulative_per_million\",\n",
    "        \"Deaths - cumulative total\": \"deaths_cumulative\",\n",
    "        \"Deaths - cumulative total per 1 million population\": \"deaths_cumulative_per_million\",\n",
    "        \"Cases - newly reported in last 7 days\": \"cases_newly_reported_in_7_days\",\n",
    "        \"Cases - newly reported in last 24 hours\": \"cases_newly_reported_in_24_hours\",\n",
    "        \"Deaths - newly reported in last 7 days\": \"deaths_newly_reported_in_7_days\",\n",
    "        \"Deaths - newly reported in last 24 hours\": \"deaths_newly_reported_in_24_hours\",\n",
    "        \"Transmission Classification\": \"transmission_classification\",\n",
    "    },\n",
    "    axis=1,\n",
    ")"
   ]
  },
  {
   "cell_type": "code",
   "execution_count": 4,
   "id": "innovative-dylan",
   "metadata": {},
   "outputs": [
    {
     "data": {
      "text/html": [
       "<div>\n",
       "<style scoped>\n",
       "    .dataframe tbody tr th:only-of-type {\n",
       "        vertical-align: middle;\n",
       "    }\n",
       "\n",
       "    .dataframe tbody tr th {\n",
       "        vertical-align: top;\n",
       "    }\n",
       "\n",
       "    .dataframe thead th {\n",
       "        text-align: right;\n",
       "    }\n",
       "</style>\n",
       "<table border=\"1\" class=\"dataframe\">\n",
       "  <thead>\n",
       "    <tr style=\"text-align: right;\">\n",
       "      <th></th>\n",
       "      <th>WHO_Name</th>\n",
       "      <th>WHO_Region</th>\n",
       "      <th>cases_cumulative</th>\n",
       "      <th>cases_cumulative_per_million</th>\n",
       "      <th>cases_newly_reported_in_7_days</th>\n",
       "      <th>cases_newly_reported_in_24_hours</th>\n",
       "      <th>deaths_cumulative</th>\n",
       "      <th>deaths_cumulative_per_million</th>\n",
       "      <th>deaths_newly_reported_in_7_days</th>\n",
       "      <th>deaths_newly_reported_in_24_hours</th>\n",
       "      <th>transmission_classification</th>\n",
       "      <th>date</th>\n",
       "    </tr>\n",
       "  </thead>\n",
       "  <tbody>\n",
       "    <tr>\n",
       "      <th>233</th>\n",
       "      <td>Saint Helena</td>\n",
       "      <td>Africa</td>\n",
       "      <td>0.0</td>\n",
       "      <td>0.0</td>\n",
       "      <td>0.0</td>\n",
       "      <td>0.0</td>\n",
       "      <td>0.0</td>\n",
       "      <td>0.0</td>\n",
       "      <td>0.0</td>\n",
       "      <td>0.0</td>\n",
       "      <td>No cases</td>\n",
       "      <td>2021-01-30</td>\n",
       "    </tr>\n",
       "    <tr>\n",
       "      <th>234</th>\n",
       "      <td>Tokelau</td>\n",
       "      <td>Western Pacific</td>\n",
       "      <td>0.0</td>\n",
       "      <td>0.0</td>\n",
       "      <td>0.0</td>\n",
       "      <td>0.0</td>\n",
       "      <td>0.0</td>\n",
       "      <td>0.0</td>\n",
       "      <td>0.0</td>\n",
       "      <td>0.0</td>\n",
       "      <td>No cases</td>\n",
       "      <td>2021-01-30</td>\n",
       "    </tr>\n",
       "    <tr>\n",
       "      <th>235</th>\n",
       "      <td>Tonga</td>\n",
       "      <td>Western Pacific</td>\n",
       "      <td>0.0</td>\n",
       "      <td>0.0</td>\n",
       "      <td>0.0</td>\n",
       "      <td>0.0</td>\n",
       "      <td>0.0</td>\n",
       "      <td>0.0</td>\n",
       "      <td>0.0</td>\n",
       "      <td>0.0</td>\n",
       "      <td>No cases</td>\n",
       "      <td>2021-01-30</td>\n",
       "    </tr>\n",
       "    <tr>\n",
       "      <th>236</th>\n",
       "      <td>Turkmenistan</td>\n",
       "      <td>Europe</td>\n",
       "      <td>0.0</td>\n",
       "      <td>0.0</td>\n",
       "      <td>0.0</td>\n",
       "      <td>0.0</td>\n",
       "      <td>0.0</td>\n",
       "      <td>0.0</td>\n",
       "      <td>0.0</td>\n",
       "      <td>0.0</td>\n",
       "      <td>No cases</td>\n",
       "      <td>2021-01-30</td>\n",
       "    </tr>\n",
       "    <tr>\n",
       "      <th>237</th>\n",
       "      <td>Tuvalu</td>\n",
       "      <td>Western Pacific</td>\n",
       "      <td>0.0</td>\n",
       "      <td>0.0</td>\n",
       "      <td>0.0</td>\n",
       "      <td>0.0</td>\n",
       "      <td>0.0</td>\n",
       "      <td>0.0</td>\n",
       "      <td>0.0</td>\n",
       "      <td>0.0</td>\n",
       "      <td>No cases</td>\n",
       "      <td>2021-01-30</td>\n",
       "    </tr>\n",
       "  </tbody>\n",
       "</table>\n",
       "</div>"
      ],
      "text/plain": [
       "         WHO_Name       WHO_Region  cases_cumulative  \\\n",
       "233  Saint Helena           Africa               0.0   \n",
       "234       Tokelau  Western Pacific               0.0   \n",
       "235         Tonga  Western Pacific               0.0   \n",
       "236  Turkmenistan           Europe               0.0   \n",
       "237        Tuvalu  Western Pacific               0.0   \n",
       "\n",
       "     cases_cumulative_per_million  cases_newly_reported_in_7_days  \\\n",
       "233                           0.0                             0.0   \n",
       "234                           0.0                             0.0   \n",
       "235                           0.0                             0.0   \n",
       "236                           0.0                             0.0   \n",
       "237                           0.0                             0.0   \n",
       "\n",
       "     cases_newly_reported_in_24_hours  deaths_cumulative  \\\n",
       "233                               0.0                0.0   \n",
       "234                               0.0                0.0   \n",
       "235                               0.0                0.0   \n",
       "236                               0.0                0.0   \n",
       "237                               0.0                0.0   \n",
       "\n",
       "     deaths_cumulative_per_million  deaths_newly_reported_in_7_days  \\\n",
       "233                            0.0                              0.0   \n",
       "234                            0.0                              0.0   \n",
       "235                            0.0                              0.0   \n",
       "236                            0.0                              0.0   \n",
       "237                            0.0                              0.0   \n",
       "\n",
       "     deaths_newly_reported_in_24_hours transmission_classification        date  \n",
       "233                                0.0                    No cases  2021-01-30  \n",
       "234                                0.0                    No cases  2021-01-30  \n",
       "235                                0.0                    No cases  2021-01-30  \n",
       "236                                0.0                    No cases  2021-01-30  \n",
       "237                                0.0                    No cases  2021-01-30  "
      ]
     },
     "execution_count": 4,
     "metadata": {},
     "output_type": "execute_result"
    }
   ],
   "source": [
    "timeseries.tail()"
   ]
  },
  {
   "cell_type": "markdown",
   "id": "configured-import",
   "metadata": {},
   "source": [
    "### Question 1: How good is the data used by the WHO?\n",
    "In the following I will try to answer the consistancy of the data set and the reporting behavior."
   ]
  },
  {
   "cell_type": "markdown",
   "id": "smaller-drove",
   "metadata": {},
   "source": [
    "#### Missing data\n",
    "Generally, missing data in this dataset is seldom. There is no variable that has over 1% missing data. But is the data really this good?"
   ]
  },
  {
   "cell_type": "code",
   "execution_count": 5,
   "id": "complimentary-louisville",
   "metadata": {},
   "outputs": [
    {
     "data": {
      "text/plain": [
       "WHO_Name                             0.00\n",
       "WHO_Region                           0.64\n",
       "cases_cumulative                     0.22\n",
       "cases_cumulative_per_million         0.64\n",
       "cases_newly_reported_in_7_days       0.22\n",
       "cases_newly_reported_in_24_hours     0.22\n",
       "deaths_cumulative                    0.22\n",
       "deaths_cumulative_per_million        0.64\n",
       "deaths_newly_reported_in_7_days      0.22\n",
       "deaths_newly_reported_in_24_hours    0.22\n",
       "transmission_classification          0.64\n",
       "date                                 0.00\n",
       "dtype: float64"
      ]
     },
     "execution_count": 5,
     "metadata": {},
     "output_type": "execute_result"
    }
   ],
   "source": [
    "round(timeseries.isna().sum() / timeseries.shape[0] * 100, ndigits=2)"
   ]
  },
  {
   "cell_type": "markdown",
   "id": "nearby-mauritius",
   "metadata": {},
   "source": [
    "#### Consitancy\n",
    "Let's check the cumulative counts. Per definition, these numbers cannot decrease. So a value from one day to the other is either larger or equally large. How many entries in this data set satisfy this criterion?"
   ]
  },
  {
   "cell_type": "code",
   "execution_count": 6,
   "id": "saving-grain",
   "metadata": {},
   "outputs": [],
   "source": [
    "def create_diff(timespan):\n",
    "    return (\n",
    "        timeseries.sort_values(by=[\"WHO_Name\", \"date\"])\n",
    "        .set_index([\"WHO_Region\", \"WHO_Name\", \"date\"])\n",
    "        .groupby(\"WHO_Name\")[[\"cases_cumulative\", \"deaths_cumulative\"]]\n",
    "        .diff(timespan)\n",
    "        .rename(lambda x: f\"{x}_diff_{timespan}\", axis=1)\n",
    "    )"
   ]
  },
  {
   "cell_type": "code",
   "execution_count": 7,
   "id": "demonstrated-arrival",
   "metadata": {},
   "outputs": [
    {
     "name": "stdout",
     "output_type": "stream",
     "text": [
      "0.09 % of the cumulative cases decrease from one day to the other\n",
      "0.06 % of the cumulative deaths decrease from one day to the other\n"
     ]
    }
   ],
   "source": [
    "diff_one = create_diff(1)\n",
    "\n",
    "print(\n",
    "    round(\n",
    "        len(diff_one[diff_one[\"cases_cumulative_diff_1\"] < 0]) / len(diff_one) * 100,\n",
    "        ndigits=2,\n",
    "    ),\n",
    "    \"% of the cumulative cases decrease from one day to the other\",\n",
    ")\n",
    "\n",
    "print(\n",
    "    round(\n",
    "        len(diff_one[diff_one[\"deaths_cumulative_diff_1\"] < 0]) / len(diff_one) * 100,\n",
    "        ndigits=2,\n",
    "    ),\n",
    "    \"% of the cumulative deaths decrease from one day to the other\",\n",
    ")"
   ]
  },
  {
   "cell_type": "markdown",
   "id": "successful-projector",
   "metadata": {},
   "source": [
    "Let's check if there is any pattern among the different WHO_Regions"
   ]
  },
  {
   "cell_type": "code",
   "execution_count": 8,
   "id": "thousand-plain",
   "metadata": {},
   "outputs": [
    {
     "data": {
      "text/plain": [
       "WHO_Region\n",
       "Africa             4\n",
       "Americas           2\n",
       "Europe             5\n",
       "Western Pacific    2\n",
       "dtype: int64"
      ]
     },
     "execution_count": 8,
     "metadata": {},
     "output_type": "execute_result"
    }
   ],
   "source": [
    "diff_one.query(\"cases_cumulative_diff_1 < 0\").groupby(\"WHO_Region\").size()"
   ]
  },
  {
   "cell_type": "code",
   "execution_count": 9,
   "id": "impaired-credit",
   "metadata": {},
   "outputs": [
    {
     "data": {
      "text/plain": [
       "WHO_Region\n",
       "Africa      4\n",
       "Americas    1\n",
       "Europe      4\n",
       "dtype: int64"
      ]
     },
     "execution_count": 9,
     "metadata": {},
     "output_type": "execute_result"
    }
   ],
   "source": [
    "diff_one.query(\"deaths_cumulative_diff_1 < 0\").groupby(\"WHO_Region\").size()"
   ]
  },
  {
   "cell_type": "markdown",
   "id": "round-stability",
   "metadata": {},
   "source": [
    "There is nothing supsicious about the decrease of cumulative reports among the regions.\n",
    "\n",
    "How about their information on `Cases/Deaths - newly reported in last 7 days`. This should be the same as if taking the difference between the cumulative death and case counts from 7 days ago."
   ]
  },
  {
   "cell_type": "code",
   "execution_count": 10,
   "id": "adjusted-calcium",
   "metadata": {},
   "outputs": [],
   "source": [
    "diff_seven = create_diff(7)\n",
    "\n",
    "diffs_expected = timeseries.set_index([\"WHO_Name\", \"date\"]).loc[\n",
    "    :,\n",
    "    [\n",
    "        \"cases_newly_reported_in_7_days\",\n",
    "        \"deaths_newly_reported_in_7_days\",\n",
    "    ],\n",
    "]\n",
    "\n",
    "diffs_and_expected_diffs = diff_seven.merge(\n",
    "    diffs_expected, left_index=True, right_index=True, validate=\"1:1\"\n",
    ").dropna()"
   ]
  },
  {
   "cell_type": "code",
   "execution_count": 11,
   "id": "social-contest",
   "metadata": {},
   "outputs": [
    {
     "name": "stdout",
     "output_type": "stream",
     "text": [
      "16.81 % of the difference taken from the cumulative case count from 7 days ago don't match up with the column of newly reported deaths\n",
      "11.77 % of the difference taken from the cumulative deaths count from 7 days ago don't match up with the column of newly reported deaths\n"
     ]
    }
   ],
   "source": [
    "print(\n",
    "    round(\n",
    "        (\n",
    "            diffs_and_expected_diffs[\"cases_cumulative_diff_7\"]\n",
    "            != diffs_and_expected_diffs[\"cases_newly_reported_in_7_days\"]\n",
    "        ).sum()\n",
    "        / len(diffs_and_expected_diffs)\n",
    "        * 100,\n",
    "        ndigits=2,\n",
    "    ),\n",
    "    \"% of the difference taken from the cumulative case count from 7 days ago don't match up with the column of newly reported deaths\",\n",
    ")\n",
    "\n",
    "print(\n",
    "    round(\n",
    "        (\n",
    "            diffs_and_expected_diffs[\"deaths_cumulative_diff_7\"]\n",
    "            != diffs_and_expected_diffs[\"deaths_newly_reported_in_7_days\"]\n",
    "        ).sum()\n",
    "        / len(diffs_and_expected_diffs)\n",
    "        * 100,\n",
    "        ndigits=2,\n",
    "    ),\n",
    "    \"% of the difference taken from the cumulative deaths count from 7 days ago don't match up with the column of newly reported deaths\",\n",
    ")"
   ]
  },
  {
   "cell_type": "code",
   "execution_count": 12,
   "id": "descending-locking",
   "metadata": {},
   "outputs": [
    {
     "name": "stdout",
     "output_type": "stream",
     "text": [
      "Relative amount of missmatches of reported and calculated cases in the last 7 days compared to reports made world wide.\n"
     ]
    },
    {
     "data": {
      "text/plain": [
       "WHO_Region\n",
       "Africa                   3.12\n",
       "Americas                 2.39\n",
       "Eastern Mediterranean    1.40\n",
       "Europe                   7.83\n",
       "South-East Asia          0.45\n",
       "Western Pacific          1.20\n",
       "dtype: float64"
      ]
     },
     "execution_count": 12,
     "metadata": {},
     "output_type": "execute_result"
    }
   ],
   "source": [
    "print(\n",
    "    \"Relative amount of missmatches of reported and calculated cases in the last 7 days compared to reports made world wide.\"\n",
    ")\n",
    "round(\n",
    "    diffs_and_expected_diffs.query(\n",
    "        \"cases_cumulative_diff_7 != cases_newly_reported_in_7_days\"\n",
    "    )\n",
    "    .groupby(\"WHO_Region\")\n",
    "    .size()\n",
    "    / len(diffs_and_expected_diffs)\n",
    "    * 100,\n",
    "    ndigits=2,\n",
    ")"
   ]
  },
  {
   "cell_type": "code",
   "execution_count": 13,
   "id": "seventh-boston",
   "metadata": {},
   "outputs": [
    {
     "name": "stdout",
     "output_type": "stream",
     "text": [
      "Relative amount of missmatch of reported and calculated cases in the last 7 days compared to reports within this region.\n"
     ]
    },
    {
     "data": {
      "text/plain": [
       "WHO_Region\n",
       "Africa                   14.80\n",
       "Americas                 10.28\n",
       "Eastern Mediterranean    15.04\n",
       "Europe                   29.94\n",
       "Other                      NaN\n",
       "South-East Asia           9.75\n",
       "Western Pacific           8.16\n",
       "dtype: float64"
      ]
     },
     "execution_count": 13,
     "metadata": {},
     "output_type": "execute_result"
    }
   ],
   "source": [
    "print(\n",
    "    \"Relative amount of missmatch of reported and calculated cases in the last 7 days compared to reports within this region.\"\n",
    ")\n",
    "round(\n",
    "    diffs_and_expected_diffs.query(\n",
    "        \"cases_cumulative_diff_7 != cases_newly_reported_in_7_days\"\n",
    "    )\n",
    "    .groupby(\"WHO_Region\")\n",
    "    .size()\n",
    "    / diffs_and_expected_diffs.groupby(\"WHO_Region\").size()\n",
    "    * 100,\n",
    "    ndigits=2,\n",
    ")"
   ]
  },
  {
   "cell_type": "code",
   "execution_count": 14,
   "id": "ambient-first",
   "metadata": {},
   "outputs": [
    {
     "name": "stdout",
     "output_type": "stream",
     "text": [
      "Relative amount of missmatch of reported and calculated deaths in the last 7 days compared to reports world wide.\n"
     ]
    },
    {
     "data": {
      "text/plain": [
       "WHO_Region\n",
       "Africa                   1.66\n",
       "Americas                 1.53\n",
       "Eastern Mediterranean    1.19\n",
       "Europe                   6.32\n",
       "South-East Asia          0.31\n",
       "Western Pacific          0.34\n",
       "dtype: float64"
      ]
     },
     "execution_count": 14,
     "metadata": {},
     "output_type": "execute_result"
    }
   ],
   "source": [
    "print(\n",
    "    \"Relative amount of missmatch of reported and calculated deaths in the last 7 days compared to reports world wide.\"\n",
    ")\n",
    "round(\n",
    "    diffs_and_expected_diffs.query(\n",
    "        \"deaths_cumulative_diff_7 != deaths_newly_reported_in_7_days\"\n",
    "    )\n",
    "    .groupby(\"WHO_Region\")\n",
    "    .size()\n",
    "    / len(diffs_and_expected_diffs)\n",
    "    * 100,\n",
    "    ndigits=2,\n",
    ")"
   ]
  },
  {
   "cell_type": "code",
   "execution_count": 15,
   "id": "spatial-transaction",
   "metadata": {},
   "outputs": [
    {
     "name": "stdout",
     "output_type": "stream",
     "text": [
      "Relative amount of missmatch of reported and calculated deaths in the last 7 days compared to reports within this region.\n"
     ]
    },
    {
     "data": {
      "text/plain": [
       "WHO_Region\n",
       "Africa                    7.85\n",
       "Americas                  6.55\n",
       "Eastern Mediterranean    12.81\n",
       "Europe                   24.19\n",
       "Other                      NaN\n",
       "South-East Asia           6.78\n",
       "Western Pacific           2.29\n",
       "dtype: float64"
      ]
     },
     "execution_count": 15,
     "metadata": {},
     "output_type": "execute_result"
    }
   ],
   "source": [
    "print(\n",
    "    \"Relative amount of missmatch of reported and calculated deaths in the last 7 days compared to reports within this region.\"\n",
    ")\n",
    "round(\n",
    "    diffs_and_expected_diffs.query(\n",
    "        \"deaths_cumulative_diff_7 != deaths_newly_reported_in_7_days\"\n",
    "    )\n",
    "    .groupby(\"WHO_Region\")\n",
    "    .size()\n",
    "    / diffs_and_expected_diffs.groupby(\"WHO_Region\").size()\n",
    "    * 100,\n",
    "    ndigits=2,\n",
    ")"
   ]
  },
  {
   "cell_type": "markdown",
   "id": "annoying-joining",
   "metadata": {},
   "source": [
    "The percentages don't add up when comparing at country and region level. This is due to one entry called \"Global\" that falls out of the Region analysis."
   ]
  },
  {
   "cell_type": "code",
   "execution_count": 16,
   "id": "departmental-cargo",
   "metadata": {},
   "outputs": [
    {
     "data": {
      "text/plain": [
       "'Global'"
      ]
     },
     "execution_count": 16,
     "metadata": {},
     "output_type": "execute_result"
    }
   ],
   "source": [
    "diffs_and_expected_diffs.query(\n",
    "    \"WHO_Name.notna() and WHO_Region.isna()\"\n",
    ").reset_index().WHO_Name.unique()[0]"
   ]
  },
  {
   "cell_type": "markdown",
   "id": "descending-contract",
   "metadata": {},
   "source": [
    "#### Reporting behavior\n",
    "Within which time span are countries reporting new cases"
   ]
  },
  {
   "cell_type": "code",
   "execution_count": 17,
   "id": "labeled-istanbul",
   "metadata": {},
   "outputs": [],
   "source": [
    "diffs_over_time = (\n",
    "    pd.concat([create_diff(i) for i in range(0, 30)], axis=1, verify_integrity=True)\n",
    "    .reset_index()\n",
    "    .melt(id_vars=[\"WHO_Region\", \"WHO_Name\", \"date\"])\n",
    "    .assign(\n",
    "        count_type=lambda x: x.variable.apply(\n",
    "            lambda y: \"cases\" if \"cases\" in y else \"deaths\"\n",
    "        ),\n",
    "        day_diff=lambda x: x.variable.apply(lambda y: re.search(r\"\\d+\", y)[0]).astype(\n",
    "            int\n",
    "        ),\n",
    "    )\n",
    ")"
   ]
  },
  {
   "cell_type": "code",
   "execution_count": 18,
   "id": "central-hawaii",
   "metadata": {},
   "outputs": [
    {
     "data": {
      "text/html": [
       "<div>\n",
       "<style scoped>\n",
       "    .dataframe tbody tr th:only-of-type {\n",
       "        vertical-align: middle;\n",
       "    }\n",
       "\n",
       "    .dataframe tbody tr th {\n",
       "        vertical-align: top;\n",
       "    }\n",
       "\n",
       "    .dataframe thead th {\n",
       "        text-align: right;\n",
       "    }\n",
       "</style>\n",
       "<table border=\"1\" class=\"dataframe\">\n",
       "  <thead>\n",
       "    <tr style=\"text-align: right;\">\n",
       "      <th></th>\n",
       "      <th>WHO_Region</th>\n",
       "      <th>WHO_Name</th>\n",
       "      <th>date</th>\n",
       "      <th>variable</th>\n",
       "      <th>value</th>\n",
       "      <th>count_type</th>\n",
       "      <th>day_diff</th>\n",
       "    </tr>\n",
       "  </thead>\n",
       "  <tbody>\n",
       "    <tr>\n",
       "      <th>0</th>\n",
       "      <td>Eastern Mediterranean</td>\n",
       "      <td>Afghanistan</td>\n",
       "      <td>2020-11-29</td>\n",
       "      <td>cases_cumulative_diff_0</td>\n",
       "      <td>0.0</td>\n",
       "      <td>cases</td>\n",
       "      <td>0</td>\n",
       "    </tr>\n",
       "    <tr>\n",
       "      <th>1</th>\n",
       "      <td>Eastern Mediterranean</td>\n",
       "      <td>Afghanistan</td>\n",
       "      <td>2020-11-30</td>\n",
       "      <td>cases_cumulative_diff_0</td>\n",
       "      <td>0.0</td>\n",
       "      <td>cases</td>\n",
       "      <td>0</td>\n",
       "    </tr>\n",
       "    <tr>\n",
       "      <th>2</th>\n",
       "      <td>Eastern Mediterranean</td>\n",
       "      <td>Afghanistan</td>\n",
       "      <td>2020-12-01</td>\n",
       "      <td>cases_cumulative_diff_0</td>\n",
       "      <td>0.0</td>\n",
       "      <td>cases</td>\n",
       "      <td>0</td>\n",
       "    </tr>\n",
       "    <tr>\n",
       "      <th>3</th>\n",
       "      <td>Eastern Mediterranean</td>\n",
       "      <td>Afghanistan</td>\n",
       "      <td>2020-12-02</td>\n",
       "      <td>cases_cumulative_diff_0</td>\n",
       "      <td>0.0</td>\n",
       "      <td>cases</td>\n",
       "      <td>0</td>\n",
       "    </tr>\n",
       "    <tr>\n",
       "      <th>4</th>\n",
       "      <td>Eastern Mediterranean</td>\n",
       "      <td>Afghanistan</td>\n",
       "      <td>2020-12-03</td>\n",
       "      <td>cases_cumulative_diff_0</td>\n",
       "      <td>0.0</td>\n",
       "      <td>cases</td>\n",
       "      <td>0</td>\n",
       "    </tr>\n",
       "  </tbody>\n",
       "</table>\n",
       "</div>"
      ],
      "text/plain": [
       "              WHO_Region     WHO_Name        date                 variable  \\\n",
       "0  Eastern Mediterranean  Afghanistan  2020-11-29  cases_cumulative_diff_0   \n",
       "1  Eastern Mediterranean  Afghanistan  2020-11-30  cases_cumulative_diff_0   \n",
       "2  Eastern Mediterranean  Afghanistan  2020-12-01  cases_cumulative_diff_0   \n",
       "3  Eastern Mediterranean  Afghanistan  2020-12-02  cases_cumulative_diff_0   \n",
       "4  Eastern Mediterranean  Afghanistan  2020-12-03  cases_cumulative_diff_0   \n",
       "\n",
       "   value count_type  day_diff  \n",
       "0    0.0      cases         0  \n",
       "1    0.0      cases         0  \n",
       "2    0.0      cases         0  \n",
       "3    0.0      cases         0  \n",
       "4    0.0      cases         0  "
      ]
     },
     "execution_count": 18,
     "metadata": {},
     "output_type": "execute_result"
    }
   ],
   "source": [
    "diffs_over_time.head()"
   ]
  },
  {
   "cell_type": "code",
   "execution_count": 19,
   "id": "nearby-awareness",
   "metadata": {},
   "outputs": [],
   "source": [
    "diffs_over_time_relative = diffs_over_time.groupby([\"count_type\", \"day_diff\"]).agg(\n",
    "    {\"value\": lambda x: sum(x != 0)}\n",
    ") / len(timeseries)"
   ]
  },
  {
   "cell_type": "code",
   "execution_count": 20,
   "id": "inner-neighbor",
   "metadata": {},
   "outputs": [
    {
     "data": {
      "text/html": [
       "\n",
       "<div id=\"altair-viz-eff4eedea8984520b494a19a7c8ca77c\"></div>\n",
       "<script type=\"text/javascript\">\n",
       "  (function(spec, embedOpt){\n",
       "    let outputDiv = document.currentScript.previousElementSibling;\n",
       "    if (outputDiv.id !== \"altair-viz-eff4eedea8984520b494a19a7c8ca77c\") {\n",
       "      outputDiv = document.getElementById(\"altair-viz-eff4eedea8984520b494a19a7c8ca77c\");\n",
       "    }\n",
       "    const paths = {\n",
       "      \"vega\": \"https://cdn.jsdelivr.net/npm//vega@5?noext\",\n",
       "      \"vega-lib\": \"https://cdn.jsdelivr.net/npm//vega-lib?noext\",\n",
       "      \"vega-lite\": \"https://cdn.jsdelivr.net/npm//vega-lite@4.8.1?noext\",\n",
       "      \"vega-embed\": \"https://cdn.jsdelivr.net/npm//vega-embed@6?noext\",\n",
       "    };\n",
       "\n",
       "    function loadScript(lib) {\n",
       "      return new Promise(function(resolve, reject) {\n",
       "        var s = document.createElement('script');\n",
       "        s.src = paths[lib];\n",
       "        s.async = true;\n",
       "        s.onload = () => resolve(paths[lib]);\n",
       "        s.onerror = () => reject(`Error loading script: ${paths[lib]}`);\n",
       "        document.getElementsByTagName(\"head\")[0].appendChild(s);\n",
       "      });\n",
       "    }\n",
       "\n",
       "    function showError(err) {\n",
       "      outputDiv.innerHTML = `<div class=\"error\" style=\"color:red;\">${err}</div>`;\n",
       "      throw err;\n",
       "    }\n",
       "\n",
       "    function displayChart(vegaEmbed) {\n",
       "      vegaEmbed(outputDiv, spec, embedOpt)\n",
       "        .catch(err => showError(`Javascript Error: ${err.message}<br>This usually means there's a typo in your chart specification. See the javascript console for the full traceback.`));\n",
       "    }\n",
       "\n",
       "    if(typeof define === \"function\" && define.amd) {\n",
       "      requirejs.config({paths});\n",
       "      require([\"vega-embed\"], displayChart, err => showError(`Error loading script: ${err.message}`));\n",
       "    } else if (typeof vegaEmbed === \"function\") {\n",
       "      displayChart(vegaEmbed);\n",
       "    } else {\n",
       "      loadScript(\"vega\")\n",
       "        .then(() => loadScript(\"vega-lite\"))\n",
       "        .then(() => loadScript(\"vega-embed\"))\n",
       "        .catch(showError)\n",
       "        .then(() => displayChart(vegaEmbed));\n",
       "    }\n",
       "  })({\"config\": {\"view\": {\"continuousWidth\": 400, \"continuousHeight\": 300}}, \"data\": {\"name\": \"data-ded8229cb85ded054115157ce59c3f5f\"}, \"mark\": {\"type\": \"bar\", \"size\": 7}, \"encoding\": {\"color\": {\"type\": \"nominal\", \"field\": \"count_type\", \"title\": \"Reporting type\"}, \"x\": {\"type\": \"quantitative\", \"field\": \"day_diff\", \"scale\": {\"domain\": [1, 29]}, \"title\": \"Days until next report\"}, \"y\": {\"type\": \"quantitative\", \"axis\": {\"format\": \"%\"}, \"field\": \"value\", \"title\": \"Proportion that made a new report\"}}, \"$schema\": \"https://vega.github.io/schema/vega-lite/v4.8.1.json\", \"datasets\": {\"data-ded8229cb85ded054115157ce59c3f5f\": [{\"count_type\": \"cases\", \"day_diff\": 0, \"value\": 0.002169344451223646}, {\"count_type\": \"cases\", \"day_diff\": 1, \"value\": 0.6604298013693987}, {\"count_type\": \"cases\", \"day_diff\": 2, \"value\": 0.7684902718459765}, {\"count_type\": \"cases\", \"day_diff\": 3, \"value\": 0.8150633855331841}, {\"count_type\": \"cases\", \"day_diff\": 4, \"value\": 0.8422479831875805}, {\"count_type\": \"cases\", \"day_diff\": 5, \"value\": 0.8604162429665785}, {\"count_type\": \"cases\", \"day_diff\": 6, \"value\": 0.874584773913633}, {\"count_type\": \"cases\", \"day_diff\": 7, \"value\": 0.8855670801979527}, {\"count_type\": \"cases\", \"day_diff\": 8, \"value\": 0.8928886177208325}, {\"count_type\": \"cases\", \"day_diff\": 9, \"value\": 0.8988543149616975}, {\"count_type\": \"cases\", \"day_diff\": 10, \"value\": 0.9040743000474544}, {\"count_type\": \"cases\", \"day_diff\": 11, \"value\": 0.9082096129075995}, {\"count_type\": \"cases\", \"day_diff\": 12, \"value\": 0.9120737577113416}, {\"count_type\": \"cases\", \"day_diff\": 13, \"value\": 0.9153955664022778}, {\"count_type\": \"cases\", \"day_diff\": 14, \"value\": 0.9185139990509118}, {\"count_type\": \"cases\", \"day_diff\": 15, \"value\": 0.9214290556572435}, {\"count_type\": \"cases\", \"day_diff\": 16, \"value\": 0.9242085282353739}, {\"count_type\": \"cases\", \"day_diff\": 17, \"value\": 0.9268524167853027}, {\"count_type\": \"cases\", \"day_diff\": 18, \"value\": 0.9294285133211307}, {\"count_type\": \"cases\", \"day_diff\": 19, \"value\": 0.9317334418005558}, {\"count_type\": \"cases\", \"day_diff\": 20, \"value\": 0.9339705782658803}, {\"count_type\": \"cases\", \"day_diff\": 21, \"value\": 0.9362077147312047}, {\"count_type\": \"cases\", \"day_diff\": 22, \"value\": 0.9384448511965291}, {\"count_type\": \"cases\", \"day_diff\": 23, \"value\": 0.9405464036336519}, {\"count_type\": \"cases\", \"day_diff\": 24, \"value\": 0.9425123720425734}, {\"count_type\": \"cases\", \"day_diff\": 25, \"value\": 0.9444783404514948}, {\"count_type\": \"cases\", \"day_diff\": 26, \"value\": 0.9463765168463155}, {\"count_type\": \"cases\", \"day_diff\": 27, \"value\": 0.9482746932411362}, {\"count_type\": \"cases\", \"day_diff\": 28, \"value\": 0.9501728696359569}, {\"count_type\": \"cases\", \"day_diff\": 29, \"value\": 0.9519354620025761}, {\"count_type\": \"deaths\", \"day_diff\": 0, \"value\": 0.002169344451223646}, {\"count_type\": \"deaths\", \"day_diff\": 1, \"value\": 0.4695952816758186}, {\"count_type\": \"deaths\", \"day_diff\": 2, \"value\": 0.5548098434004475}, {\"count_type\": \"deaths\", \"day_diff\": 3, \"value\": 0.5962985560300996}, {\"count_type\": \"deaths\", \"day_diff\": 4, \"value\": 0.6262626262626263}, {\"count_type\": \"deaths\", \"day_diff\": 5, \"value\": 0.6503287912683886}, {\"count_type\": \"deaths\", \"day_diff\": 6, \"value\": 0.6712087316114161}, {\"count_type\": \"deaths\", \"day_diff\": 7, \"value\": 0.6891058233340113}, {\"count_type\": \"deaths\", \"day_diff\": 8, \"value\": 0.7044268185207783}, {\"count_type\": \"deaths\", \"day_diff\": 9, \"value\": 0.7181885973832283}, {\"count_type\": \"deaths\", \"day_diff\": 10, \"value\": 0.7306623279777642}, {\"count_type\": \"deaths\", \"day_diff\": 11, \"value\": 0.7415090502338825}, {\"count_type\": \"deaths\", \"day_diff\": 12, \"value\": 0.7519490204053962}, {\"count_type\": \"deaths\", \"day_diff\": 13, \"value\": 0.7615076943936004}, {\"count_type\": \"deaths\", \"day_diff\": 14, \"value\": 0.7706596162972001}, {\"count_type\": \"deaths\", \"day_diff\": 15, \"value\": 0.7793369941020948}, {\"count_type\": \"deaths\", \"day_diff\": 16, \"value\": 0.7877432038505864}, {\"count_type\": \"deaths\", \"day_diff\": 17, \"value\": 0.7958104535285744}, {\"count_type\": \"deaths\", \"day_diff\": 18, \"value\": 0.8035387431360586}, {\"count_type\": \"deaths\", \"day_diff\": 19, \"value\": 0.8109280726730391}, {\"count_type\": \"deaths\", \"day_diff\": 20, \"value\": 0.8181818181818182}, {\"count_type\": \"deaths\", \"day_diff\": 21, \"value\": 0.8252999796623958}, {\"count_type\": \"deaths\", \"day_diff\": 22, \"value\": 0.8321469730865704}, {\"count_type\": \"deaths\", \"day_diff\": 23, \"value\": 0.8387227984543421}, {\"count_type\": \"deaths\", \"day_diff\": 24, \"value\": 0.8448918717375093}, {\"count_type\": \"deaths\", \"day_diff\": 25, \"value\": 0.8509931530065759}, {\"count_type\": \"deaths\", \"day_diff\": 26, \"value\": 0.8569588502474409}, {\"count_type\": \"deaths\", \"day_diff\": 27, \"value\": 0.8626533794319029}, {\"count_type\": \"deaths\", \"day_diff\": 28, \"value\": 0.8681445325740628}, {\"count_type\": \"deaths\", \"day_diff\": 29, \"value\": 0.8734323096739204}]}}, {\"mode\": \"vega-lite\"});\n",
       "</script>"
      ],
      "text/plain": [
       "alt.Chart(...)"
      ]
     },
     "execution_count": 20,
     "metadata": {},
     "output_type": "execute_result"
    }
   ],
   "source": [
    "alt.Chart(diffs_over_time_relative.reset_index()).mark_bar(size=7).encode(\n",
    "    x=alt.X(\n",
    "        \"day_diff\", title=\"Days until next report\", scale=alt.Scale(domain=(1, 29))\n",
    "    ),\n",
    "    y=alt.Y(\n",
    "        \"value\", axis=alt.Axis(format=\"%\"), title=\"Proportion that made a new report\"\n",
    "    ),\n",
    "    color=alt.Color(\"count_type\", title=\"Reporting type\"),\n",
    ")"
   ]
  },
  {
   "cell_type": "code",
   "execution_count": 21,
   "id": "connected-replication",
   "metadata": {},
   "outputs": [],
   "source": [
    "diffs_over_time_relative_per_region = diffs_over_time.groupby(\n",
    "    [\"WHO_Region\", \"count_type\", \"day_diff\"]\n",
    ").agg({\"value\": lambda x: sum(x != 0)}) / diffs_over_time.groupby(\n",
    "    [\"WHO_Region\", \"count_type\", \"day_diff\"]\n",
    ").size().to_frame(\n",
    "    \"value\"\n",
    ")"
   ]
  },
  {
   "cell_type": "code",
   "execution_count": 22,
   "id": "center-novelty",
   "metadata": {},
   "outputs": [
    {
     "data": {
      "text/html": [
       "\n",
       "<div id=\"altair-viz-bedbffb0afb84bc18c5d23dcdad1cd87\"></div>\n",
       "<script type=\"text/javascript\">\n",
       "  (function(spec, embedOpt){\n",
       "    let outputDiv = document.currentScript.previousElementSibling;\n",
       "    if (outputDiv.id !== \"altair-viz-bedbffb0afb84bc18c5d23dcdad1cd87\") {\n",
       "      outputDiv = document.getElementById(\"altair-viz-bedbffb0afb84bc18c5d23dcdad1cd87\");\n",
       "    }\n",
       "    const paths = {\n",
       "      \"vega\": \"https://cdn.jsdelivr.net/npm//vega@5?noext\",\n",
       "      \"vega-lib\": \"https://cdn.jsdelivr.net/npm//vega-lib?noext\",\n",
       "      \"vega-lite\": \"https://cdn.jsdelivr.net/npm//vega-lite@4.8.1?noext\",\n",
       "      \"vega-embed\": \"https://cdn.jsdelivr.net/npm//vega-embed@6?noext\",\n",
       "    };\n",
       "\n",
       "    function loadScript(lib) {\n",
       "      return new Promise(function(resolve, reject) {\n",
       "        var s = document.createElement('script');\n",
       "        s.src = paths[lib];\n",
       "        s.async = true;\n",
       "        s.onload = () => resolve(paths[lib]);\n",
       "        s.onerror = () => reject(`Error loading script: ${paths[lib]}`);\n",
       "        document.getElementsByTagName(\"head\")[0].appendChild(s);\n",
       "      });\n",
       "    }\n",
       "\n",
       "    function showError(err) {\n",
       "      outputDiv.innerHTML = `<div class=\"error\" style=\"color:red;\">${err}</div>`;\n",
       "      throw err;\n",
       "    }\n",
       "\n",
       "    function displayChart(vegaEmbed) {\n",
       "      vegaEmbed(outputDiv, spec, embedOpt)\n",
       "        .catch(err => showError(`Javascript Error: ${err.message}<br>This usually means there's a typo in your chart specification. See the javascript console for the full traceback.`));\n",
       "    }\n",
       "\n",
       "    if(typeof define === \"function\" && define.amd) {\n",
       "      requirejs.config({paths});\n",
       "      require([\"vega-embed\"], displayChart, err => showError(`Error loading script: ${err.message}`));\n",
       "    } else if (typeof vegaEmbed === \"function\") {\n",
       "      displayChart(vegaEmbed);\n",
       "    } else {\n",
       "      loadScript(\"vega\")\n",
       "        .then(() => loadScript(\"vega-lite\"))\n",
       "        .then(() => loadScript(\"vega-embed\"))\n",
       "        .catch(showError)\n",
       "        .then(() => displayChart(vegaEmbed));\n",
       "    }\n",
       "  })({\"config\": {\"view\": {\"continuousWidth\": 400, \"continuousHeight\": 300}}, \"data\": {\"name\": \"data-090b00c0ff9550783d9e096009d8efbf\"}, \"mark\": {\"type\": \"bar\", \"size\": 7}, \"encoding\": {\"color\": {\"type\": \"nominal\", \"field\": \"count_type\", \"title\": \"Reporting type\"}, \"facet\": {\"type\": \"nominal\", \"columns\": 2, \"field\": \"WHO_Region\"}, \"x\": {\"type\": \"quantitative\", \"field\": \"day_diff\", \"scale\": {\"domain\": [1, 29]}, \"title\": \"Days until next report\"}, \"y\": {\"type\": \"quantitative\", \"axis\": {\"format\": \"%\"}, \"field\": \"value\", \"title\": \"Proportion that made a new report\"}}, \"resolve\": {\"scale\": {\"x\": \"independent\"}}, \"$schema\": \"https://vega.github.io/schema/vega-lite/v4.8.1.json\", \"datasets\": {\"data-090b00c0ff9550783d9e096009d8efbf\": [{\"WHO_Region\": \"Africa\", \"count_type\": \"cases\", \"day_diff\": 0, \"value\": 0.0}, {\"WHO_Region\": \"Africa\", \"count_type\": \"cases\", \"day_diff\": 1, \"value\": 0.5661290322580645}, {\"WHO_Region\": \"Africa\", \"count_type\": \"cases\", \"day_diff\": 2, \"value\": 0.7487096774193548}, {\"WHO_Region\": \"Africa\", \"count_type\": \"cases\", \"day_diff\": 3, \"value\": 0.8254838709677419}, {\"WHO_Region\": \"Africa\", \"count_type\": \"cases\", \"day_diff\": 4, \"value\": 0.867741935483871}, {\"WHO_Region\": \"Africa\", \"count_type\": \"cases\", \"day_diff\": 5, \"value\": 0.8945161290322581}, {\"WHO_Region\": \"Africa\", \"count_type\": \"cases\", \"day_diff\": 6, \"value\": 0.9148387096774193}, {\"WHO_Region\": \"Africa\", \"count_type\": \"cases\", \"day_diff\": 7, \"value\": 0.9287096774193548}, {\"WHO_Region\": \"Africa\", \"count_type\": \"cases\", \"day_diff\": 8, \"value\": 0.9364516129032258}, {\"WHO_Region\": \"Africa\", \"count_type\": \"cases\", \"day_diff\": 9, \"value\": 0.9425806451612904}, {\"WHO_Region\": \"Africa\", \"count_type\": \"cases\", \"day_diff\": 10, \"value\": 0.9470967741935484}, {\"WHO_Region\": \"Africa\", \"count_type\": \"cases\", \"day_diff\": 11, \"value\": 0.9503225806451613}, {\"WHO_Region\": \"Africa\", \"count_type\": \"cases\", \"day_diff\": 12, \"value\": 0.9532258064516129}, {\"WHO_Region\": \"Africa\", \"count_type\": \"cases\", \"day_diff\": 13, \"value\": 0.9554838709677419}, {\"WHO_Region\": \"Africa\", \"count_type\": \"cases\", \"day_diff\": 14, \"value\": 0.957741935483871}, {\"WHO_Region\": \"Africa\", \"count_type\": \"cases\", \"day_diff\": 15, \"value\": 0.9596774193548387}, {\"WHO_Region\": \"Africa\", \"count_type\": \"cases\", \"day_diff\": 16, \"value\": 0.9616129032258065}, {\"WHO_Region\": \"Africa\", \"count_type\": \"cases\", \"day_diff\": 17, \"value\": 0.9635483870967742}, {\"WHO_Region\": \"Africa\", \"count_type\": \"cases\", \"day_diff\": 18, \"value\": 0.9654838709677419}, {\"WHO_Region\": \"Africa\", \"count_type\": \"cases\", \"day_diff\": 19, \"value\": 0.9667741935483871}, {\"WHO_Region\": \"Africa\", \"count_type\": \"cases\", \"day_diff\": 20, \"value\": 0.9680645161290322}, {\"WHO_Region\": \"Africa\", \"count_type\": \"cases\", \"day_diff\": 21, \"value\": 0.9693548387096774}, {\"WHO_Region\": \"Africa\", \"count_type\": \"cases\", \"day_diff\": 22, \"value\": 0.9706451612903226}, {\"WHO_Region\": \"Africa\", \"count_type\": \"cases\", \"day_diff\": 23, \"value\": 0.9719354838709677}, {\"WHO_Region\": \"Africa\", \"count_type\": \"cases\", \"day_diff\": 24, \"value\": 0.9729032258064516}, {\"WHO_Region\": \"Africa\", \"count_type\": \"cases\", \"day_diff\": 25, \"value\": 0.9738709677419355}, {\"WHO_Region\": \"Africa\", \"count_type\": \"cases\", \"day_diff\": 26, \"value\": 0.9748387096774194}, {\"WHO_Region\": \"Africa\", \"count_type\": \"cases\", \"day_diff\": 27, \"value\": 0.9758064516129032}, {\"WHO_Region\": \"Africa\", \"count_type\": \"cases\", \"day_diff\": 28, \"value\": 0.9767741935483871}, {\"WHO_Region\": \"Africa\", \"count_type\": \"cases\", \"day_diff\": 29, \"value\": 0.977741935483871}, {\"WHO_Region\": \"Africa\", \"count_type\": \"deaths\", \"day_diff\": 0, \"value\": 0.0}, {\"WHO_Region\": \"Africa\", \"count_type\": \"deaths\", \"day_diff\": 1, \"value\": 0.32870967741935486}, {\"WHO_Region\": \"Africa\", \"count_type\": \"deaths\", \"day_diff\": 2, \"value\": 0.4638709677419355}, {\"WHO_Region\": \"Africa\", \"count_type\": \"deaths\", \"day_diff\": 3, \"value\": 0.5358064516129032}, {\"WHO_Region\": \"Africa\", \"count_type\": \"deaths\", \"day_diff\": 4, \"value\": 0.5854838709677419}, {\"WHO_Region\": \"Africa\", \"count_type\": \"deaths\", \"day_diff\": 5, \"value\": 0.6267741935483871}, {\"WHO_Region\": \"Africa\", \"count_type\": \"deaths\", \"day_diff\": 6, \"value\": 0.662258064516129}, {\"WHO_Region\": \"Africa\", \"count_type\": \"deaths\", \"day_diff\": 7, \"value\": 0.6912903225806452}, {\"WHO_Region\": \"Africa\", \"count_type\": \"deaths\", \"day_diff\": 8, \"value\": 0.7167741935483871}, {\"WHO_Region\": \"Africa\", \"count_type\": \"deaths\", \"day_diff\": 9, \"value\": 0.7390322580645161}, {\"WHO_Region\": \"Africa\", \"count_type\": \"deaths\", \"day_diff\": 10, \"value\": 0.7577419354838709}, {\"WHO_Region\": \"Africa\", \"count_type\": \"deaths\", \"day_diff\": 11, \"value\": 0.7725806451612903}, {\"WHO_Region\": \"Africa\", \"count_type\": \"deaths\", \"day_diff\": 12, \"value\": 0.7870967741935484}, {\"WHO_Region\": \"Africa\", \"count_type\": \"deaths\", \"day_diff\": 13, \"value\": 0.8}, {\"WHO_Region\": \"Africa\", \"count_type\": \"deaths\", \"day_diff\": 14, \"value\": 0.8125806451612904}, {\"WHO_Region\": \"Africa\", \"count_type\": \"deaths\", \"day_diff\": 15, \"value\": 0.8232258064516129}, {\"WHO_Region\": \"Africa\", \"count_type\": \"deaths\", \"day_diff\": 16, \"value\": 0.8338709677419355}, {\"WHO_Region\": \"Africa\", \"count_type\": \"deaths\", \"day_diff\": 17, \"value\": 0.8438709677419355}, {\"WHO_Region\": \"Africa\", \"count_type\": \"deaths\", \"day_diff\": 18, \"value\": 0.853225806451613}, {\"WHO_Region\": \"Africa\", \"count_type\": \"deaths\", \"day_diff\": 19, \"value\": 0.8616129032258064}, {\"WHO_Region\": \"Africa\", \"count_type\": \"deaths\", \"day_diff\": 20, \"value\": 0.87}, {\"WHO_Region\": \"Africa\", \"count_type\": \"deaths\", \"day_diff\": 21, \"value\": 0.8780645161290322}, {\"WHO_Region\": \"Africa\", \"count_type\": \"deaths\", \"day_diff\": 22, \"value\": 0.885483870967742}, {\"WHO_Region\": \"Africa\", \"count_type\": \"deaths\", \"day_diff\": 23, \"value\": 0.8925806451612903}, {\"WHO_Region\": \"Africa\", \"count_type\": \"deaths\", \"day_diff\": 24, \"value\": 0.8987096774193548}, {\"WHO_Region\": \"Africa\", \"count_type\": \"deaths\", \"day_diff\": 25, \"value\": 0.9048387096774193}, {\"WHO_Region\": \"Africa\", \"count_type\": \"deaths\", \"day_diff\": 26, \"value\": 0.9106451612903226}, {\"WHO_Region\": \"Africa\", \"count_type\": \"deaths\", \"day_diff\": 27, \"value\": 0.9158064516129032}, {\"WHO_Region\": \"Africa\", \"count_type\": \"deaths\", \"day_diff\": 28, \"value\": 0.9209677419354839}, {\"WHO_Region\": \"Africa\", \"count_type\": \"deaths\", \"day_diff\": 29, \"value\": 0.925483870967742}, {\"WHO_Region\": \"Americas\", \"count_type\": \"cases\", \"day_diff\": 0, \"value\": 0.0}, {\"WHO_Region\": \"Americas\", \"count_type\": \"cases\", \"day_diff\": 1, \"value\": 0.6576419213973799}, {\"WHO_Region\": \"Americas\", \"count_type\": \"cases\", \"day_diff\": 2, \"value\": 0.775254730713246}, {\"WHO_Region\": \"Americas\", \"count_type\": \"cases\", \"day_diff\": 3, \"value\": 0.838136826783115}, {\"WHO_Region\": \"Americas\", \"count_type\": \"cases\", \"day_diff\": 4, \"value\": 0.8759825327510917}, {\"WHO_Region\": \"Americas\", \"count_type\": \"cases\", \"day_diff\": 5, \"value\": 0.9004366812227074}, {\"WHO_Region\": \"Americas\", \"count_type\": \"cases\", \"day_diff\": 6, \"value\": 0.9190684133915575}, {\"WHO_Region\": \"Americas\", \"count_type\": \"cases\", \"day_diff\": 7, \"value\": 0.9342066957787482}, {\"WHO_Region\": \"Americas\", \"count_type\": \"cases\", \"day_diff\": 8, \"value\": 0.9423580786026201}, {\"WHO_Region\": \"Americas\", \"count_type\": \"cases\", \"day_diff\": 9, \"value\": 0.9475982532751092}, {\"WHO_Region\": \"Americas\", \"count_type\": \"cases\", \"day_diff\": 10, \"value\": 0.9525473071324599}, {\"WHO_Region\": \"Americas\", \"count_type\": \"cases\", \"day_diff\": 11, \"value\": 0.9563318777292577}, {\"WHO_Region\": \"Americas\", \"count_type\": \"cases\", \"day_diff\": 12, \"value\": 0.9601164483260554}, {\"WHO_Region\": \"Americas\", \"count_type\": \"cases\", \"day_diff\": 13, \"value\": 0.9627365356622999}, {\"WHO_Region\": \"Americas\", \"count_type\": \"cases\", \"day_diff\": 14, \"value\": 0.9650655021834061}, {\"WHO_Region\": \"Americas\", \"count_type\": \"cases\", \"day_diff\": 15, \"value\": 0.9671033478893741}, {\"WHO_Region\": \"Americas\", \"count_type\": \"cases\", \"day_diff\": 16, \"value\": 0.9691411935953421}, {\"WHO_Region\": \"Americas\", \"count_type\": \"cases\", \"day_diff\": 17, \"value\": 0.97117903930131}, {\"WHO_Region\": \"Americas\", \"count_type\": \"cases\", \"day_diff\": 18, \"value\": 0.973216885007278}, {\"WHO_Region\": \"Americas\", \"count_type\": \"cases\", \"day_diff\": 19, \"value\": 0.975254730713246}, {\"WHO_Region\": \"Americas\", \"count_type\": \"cases\", \"day_diff\": 20, \"value\": 0.977292576419214}, {\"WHO_Region\": \"Americas\", \"count_type\": \"cases\", \"day_diff\": 21, \"value\": 0.979330422125182}, {\"WHO_Region\": \"Americas\", \"count_type\": \"cases\", \"day_diff\": 22, \"value\": 0.9810771470160117}, {\"WHO_Region\": \"Americas\", \"count_type\": \"cases\", \"day_diff\": 23, \"value\": 0.982532751091703}, {\"WHO_Region\": \"Americas\", \"count_type\": \"cases\", \"day_diff\": 24, \"value\": 0.9836972343522562}, {\"WHO_Region\": \"Americas\", \"count_type\": \"cases\", \"day_diff\": 25, \"value\": 0.9848617176128093}, {\"WHO_Region\": \"Americas\", \"count_type\": \"cases\", \"day_diff\": 26, \"value\": 0.9860262008733625}, {\"WHO_Region\": \"Americas\", \"count_type\": \"cases\", \"day_diff\": 27, \"value\": 0.9871906841339155}, {\"WHO_Region\": \"Americas\", \"count_type\": \"cases\", \"day_diff\": 28, \"value\": 0.9883551673944687}, {\"WHO_Region\": \"Americas\", \"count_type\": \"cases\", \"day_diff\": 29, \"value\": 0.9889374090247453}, {\"WHO_Region\": \"Americas\", \"count_type\": \"deaths\", \"day_diff\": 0, \"value\": 0.0}, {\"WHO_Region\": \"Americas\", \"count_type\": \"deaths\", \"day_diff\": 1, \"value\": 0.4229985443959243}, {\"WHO_Region\": \"Americas\", \"count_type\": \"deaths\", \"day_diff\": 2, \"value\": 0.49344978165938863}, {\"WHO_Region\": \"Americas\", \"count_type\": \"deaths\", \"day_diff\": 3, \"value\": 0.5342066957787481}, {\"WHO_Region\": \"Americas\", \"count_type\": \"deaths\", \"day_diff\": 4, \"value\": 0.5653566229985444}, {\"WHO_Region\": \"Americas\", \"count_type\": \"deaths\", \"day_diff\": 5, \"value\": 0.5933042212518195}, {\"WHO_Region\": \"Americas\", \"count_type\": \"deaths\", \"day_diff\": 6, \"value\": 0.619505094614265}, {\"WHO_Region\": \"Americas\", \"count_type\": \"deaths\", \"day_diff\": 7, \"value\": 0.6425036390101893}, {\"WHO_Region\": \"Americas\", \"count_type\": \"deaths\", \"day_diff\": 8, \"value\": 0.6614264919941776}, {\"WHO_Region\": \"Americas\", \"count_type\": \"deaths\", \"day_diff\": 9, \"value\": 0.6788937409024746}, {\"WHO_Region\": \"Americas\", \"count_type\": \"deaths\", \"day_diff\": 10, \"value\": 0.6946142649199418}, {\"WHO_Region\": \"Americas\", \"count_type\": \"deaths\", \"day_diff\": 11, \"value\": 0.7085880640465794}, {\"WHO_Region\": \"Americas\", \"count_type\": \"deaths\", \"day_diff\": 12, \"value\": 0.7213973799126637}, {\"WHO_Region\": \"Americas\", \"count_type\": \"deaths\", \"day_diff\": 13, \"value\": 0.7327510917030567}, {\"WHO_Region\": \"Americas\", \"count_type\": \"deaths\", \"day_diff\": 14, \"value\": 0.743231441048035}, {\"WHO_Region\": \"Americas\", \"count_type\": \"deaths\", \"day_diff\": 15, \"value\": 0.7537117903930131}, {\"WHO_Region\": \"Americas\", \"count_type\": \"deaths\", \"day_diff\": 16, \"value\": 0.763901018922853}, {\"WHO_Region\": \"Americas\", \"count_type\": \"deaths\", \"day_diff\": 17, \"value\": 0.7735080058224163}, {\"WHO_Region\": \"Americas\", \"count_type\": \"deaths\", \"day_diff\": 18, \"value\": 0.7825327510917031}, {\"WHO_Region\": \"Americas\", \"count_type\": \"deaths\", \"day_diff\": 19, \"value\": 0.7912663755458516}, {\"WHO_Region\": \"Americas\", \"count_type\": \"deaths\", \"day_diff\": 20, \"value\": 0.8}, {\"WHO_Region\": \"Americas\", \"count_type\": \"deaths\", \"day_diff\": 21, \"value\": 0.8087336244541484}, {\"WHO_Region\": \"Americas\", \"count_type\": \"deaths\", \"day_diff\": 22, \"value\": 0.8168850072780204}, {\"WHO_Region\": \"Americas\", \"count_type\": \"deaths\", \"day_diff\": 23, \"value\": 0.824745269286754}, {\"WHO_Region\": \"Americas\", \"count_type\": \"deaths\", \"day_diff\": 24, \"value\": 0.8323144104803494}, {\"WHO_Region\": \"Americas\", \"count_type\": \"deaths\", \"day_diff\": 25, \"value\": 0.8398835516739447}, {\"WHO_Region\": \"Americas\", \"count_type\": \"deaths\", \"day_diff\": 26, \"value\": 0.8471615720524017}, {\"WHO_Region\": \"Americas\", \"count_type\": \"deaths\", \"day_diff\": 27, \"value\": 0.8541484716157205}, {\"WHO_Region\": \"Americas\", \"count_type\": \"deaths\", \"day_diff\": 28, \"value\": 0.8605531295487627}, {\"WHO_Region\": \"Americas\", \"count_type\": \"deaths\", \"day_diff\": 29, \"value\": 0.8666666666666667}, {\"WHO_Region\": \"Eastern Mediterranean\", \"count_type\": \"cases\", \"day_diff\": 0, \"value\": 0.0}, {\"WHO_Region\": \"Eastern Mediterranean\", \"count_type\": \"cases\", \"day_diff\": 1, \"value\": 0.8731671554252199}, {\"WHO_Region\": \"Eastern Mediterranean\", \"count_type\": \"cases\", \"day_diff\": 2, \"value\": 0.9310850439882697}, {\"WHO_Region\": \"Eastern Mediterranean\", \"count_type\": \"cases\", \"day_diff\": 3, \"value\": 0.9530791788856305}, {\"WHO_Region\": \"Eastern Mediterranean\", \"count_type\": \"cases\", \"day_diff\": 4, \"value\": 0.9655425219941349}, {\"WHO_Region\": \"Eastern Mediterranean\", \"count_type\": \"cases\", \"day_diff\": 5, \"value\": 0.9728739002932552}, {\"WHO_Region\": \"Eastern Mediterranean\", \"count_type\": \"cases\", \"day_diff\": 6, \"value\": 0.9787390029325513}, {\"WHO_Region\": \"Eastern Mediterranean\", \"count_type\": \"cases\", \"day_diff\": 7, \"value\": 0.9838709677419355}, {\"WHO_Region\": \"Eastern Mediterranean\", \"count_type\": \"cases\", \"day_diff\": 8, \"value\": 0.9875366568914956}, {\"WHO_Region\": \"Eastern Mediterranean\", \"count_type\": \"cases\", \"day_diff\": 9, \"value\": 0.9897360703812317}, {\"WHO_Region\": \"Eastern Mediterranean\", \"count_type\": \"cases\", \"day_diff\": 10, \"value\": 0.9912023460410557}, {\"WHO_Region\": \"Eastern Mediterranean\", \"count_type\": \"cases\", \"day_diff\": 11, \"value\": 0.9919354838709677}, {\"WHO_Region\": \"Eastern Mediterranean\", \"count_type\": \"cases\", \"day_diff\": 12, \"value\": 0.9926686217008798}, {\"WHO_Region\": \"Eastern Mediterranean\", \"count_type\": \"cases\", \"day_diff\": 13, \"value\": 0.9934017595307918}, {\"WHO_Region\": \"Eastern Mediterranean\", \"count_type\": \"cases\", \"day_diff\": 14, \"value\": 0.9941348973607038}, {\"WHO_Region\": \"Eastern Mediterranean\", \"count_type\": \"cases\", \"day_diff\": 15, \"value\": 0.9948680351906158}, {\"WHO_Region\": \"Eastern Mediterranean\", \"count_type\": \"cases\", \"day_diff\": 16, \"value\": 0.9956011730205279}, {\"WHO_Region\": \"Eastern Mediterranean\", \"count_type\": \"cases\", \"day_diff\": 17, \"value\": 0.9963343108504399}, {\"WHO_Region\": \"Eastern Mediterranean\", \"count_type\": \"cases\", \"day_diff\": 18, \"value\": 0.9970674486803519}, {\"WHO_Region\": \"Eastern Mediterranean\", \"count_type\": \"cases\", \"day_diff\": 19, \"value\": 0.9978005865102639}, {\"WHO_Region\": \"Eastern Mediterranean\", \"count_type\": \"cases\", \"day_diff\": 20, \"value\": 0.998533724340176}, {\"WHO_Region\": \"Eastern Mediterranean\", \"count_type\": \"cases\", \"day_diff\": 21, \"value\": 0.999266862170088}, {\"WHO_Region\": \"Eastern Mediterranean\", \"count_type\": \"cases\", \"day_diff\": 22, \"value\": 1.0}, {\"WHO_Region\": \"Eastern Mediterranean\", \"count_type\": \"cases\", \"day_diff\": 23, \"value\": 1.0}, {\"WHO_Region\": \"Eastern Mediterranean\", \"count_type\": \"cases\", \"day_diff\": 24, \"value\": 1.0}, {\"WHO_Region\": \"Eastern Mediterranean\", \"count_type\": \"cases\", \"day_diff\": 25, \"value\": 1.0}, {\"WHO_Region\": \"Eastern Mediterranean\", \"count_type\": \"cases\", \"day_diff\": 26, \"value\": 1.0}, {\"WHO_Region\": \"Eastern Mediterranean\", \"count_type\": \"cases\", \"day_diff\": 27, \"value\": 1.0}, {\"WHO_Region\": \"Eastern Mediterranean\", \"count_type\": \"cases\", \"day_diff\": 28, \"value\": 1.0}, {\"WHO_Region\": \"Eastern Mediterranean\", \"count_type\": \"cases\", \"day_diff\": 29, \"value\": 1.0}, {\"WHO_Region\": \"Eastern Mediterranean\", \"count_type\": \"deaths\", \"day_diff\": 0, \"value\": 0.0}, {\"WHO_Region\": \"Eastern Mediterranean\", \"count_type\": \"deaths\", \"day_diff\": 1, \"value\": 0.7309384164222874}, {\"WHO_Region\": \"Eastern Mediterranean\", \"count_type\": \"deaths\", \"day_diff\": 2, \"value\": 0.8064516129032258}, {\"WHO_Region\": \"Eastern Mediterranean\", \"count_type\": \"deaths\", \"day_diff\": 3, \"value\": 0.8401759530791789}, {\"WHO_Region\": \"Eastern Mediterranean\", \"count_type\": \"deaths\", \"day_diff\": 4, \"value\": 0.8629032258064516}, {\"WHO_Region\": \"Eastern Mediterranean\", \"count_type\": \"deaths\", \"day_diff\": 5, \"value\": 0.8768328445747801}, {\"WHO_Region\": \"Eastern Mediterranean\", \"count_type\": \"deaths\", \"day_diff\": 6, \"value\": 0.8885630498533724}, {\"WHO_Region\": \"Eastern Mediterranean\", \"count_type\": \"deaths\", \"day_diff\": 7, \"value\": 0.8995601173020528}, {\"WHO_Region\": \"Eastern Mediterranean\", \"count_type\": \"deaths\", \"day_diff\": 8, \"value\": 0.908357771260997}, {\"WHO_Region\": \"Eastern Mediterranean\", \"count_type\": \"deaths\", \"day_diff\": 9, \"value\": 0.9164222873900293}, {\"WHO_Region\": \"Eastern Mediterranean\", \"count_type\": \"deaths\", \"day_diff\": 10, \"value\": 0.9244868035190615}, {\"WHO_Region\": \"Eastern Mediterranean\", \"count_type\": \"deaths\", \"day_diff\": 11, \"value\": 0.9296187683284457}, {\"WHO_Region\": \"Eastern Mediterranean\", \"count_type\": \"deaths\", \"day_diff\": 12, \"value\": 0.9347507331378299}, {\"WHO_Region\": \"Eastern Mediterranean\", \"count_type\": \"deaths\", \"day_diff\": 13, \"value\": 0.9384164222873901}, {\"WHO_Region\": \"Eastern Mediterranean\", \"count_type\": \"deaths\", \"day_diff\": 14, \"value\": 0.9420821114369502}, {\"WHO_Region\": \"Eastern Mediterranean\", \"count_type\": \"deaths\", \"day_diff\": 15, \"value\": 0.9457478005865103}, {\"WHO_Region\": \"Eastern Mediterranean\", \"count_type\": \"deaths\", \"day_diff\": 16, \"value\": 0.9486803519061584}, {\"WHO_Region\": \"Eastern Mediterranean\", \"count_type\": \"deaths\", \"day_diff\": 17, \"value\": 0.9516129032258065}, {\"WHO_Region\": \"Eastern Mediterranean\", \"count_type\": \"deaths\", \"day_diff\": 18, \"value\": 0.9545454545454546}, {\"WHO_Region\": \"Eastern Mediterranean\", \"count_type\": \"deaths\", \"day_diff\": 19, \"value\": 0.9574780058651027}, {\"WHO_Region\": \"Eastern Mediterranean\", \"count_type\": \"deaths\", \"day_diff\": 20, \"value\": 0.9604105571847508}, {\"WHO_Region\": \"Eastern Mediterranean\", \"count_type\": \"deaths\", \"day_diff\": 21, \"value\": 0.9633431085043989}, {\"WHO_Region\": \"Eastern Mediterranean\", \"count_type\": \"deaths\", \"day_diff\": 22, \"value\": 0.966275659824047}, {\"WHO_Region\": \"Eastern Mediterranean\", \"count_type\": \"deaths\", \"day_diff\": 23, \"value\": 0.968475073313783}, {\"WHO_Region\": \"Eastern Mediterranean\", \"count_type\": \"deaths\", \"day_diff\": 24, \"value\": 0.9699413489736071}, {\"WHO_Region\": \"Eastern Mediterranean\", \"count_type\": \"deaths\", \"day_diff\": 25, \"value\": 0.9714076246334311}, {\"WHO_Region\": \"Eastern Mediterranean\", \"count_type\": \"deaths\", \"day_diff\": 26, \"value\": 0.9728739002932552}, {\"WHO_Region\": \"Eastern Mediterranean\", \"count_type\": \"deaths\", \"day_diff\": 27, \"value\": 0.9743401759530792}, {\"WHO_Region\": \"Eastern Mediterranean\", \"count_type\": \"deaths\", \"day_diff\": 28, \"value\": 0.9758064516129032}, {\"WHO_Region\": \"Eastern Mediterranean\", \"count_type\": \"deaths\", \"day_diff\": 29, \"value\": 0.9772727272727273}, {\"WHO_Region\": \"Europe\", \"count_type\": \"cases\", \"day_diff\": 0, \"value\": 0.0}, {\"WHO_Region\": \"Europe\", \"count_type\": \"cases\", \"day_diff\": 1, \"value\": 0.8028095733610822}, {\"WHO_Region\": \"Europe\", \"count_type\": \"cases\", \"day_diff\": 2, \"value\": 0.8995837669094693}, {\"WHO_Region\": \"Europe\", \"count_type\": \"cases\", \"day_diff\": 3, \"value\": 0.9274193548387096}, {\"WHO_Region\": \"Europe\", \"count_type\": \"cases\", \"day_diff\": 4, \"value\": 0.9414672216441207}, {\"WHO_Region\": \"Europe\", \"count_type\": \"cases\", \"day_diff\": 5, \"value\": 0.9500520291363164}, {\"WHO_Region\": \"Europe\", \"count_type\": \"cases\", \"day_diff\": 6, \"value\": 0.9560353798126952}, {\"WHO_Region\": \"Europe\", \"count_type\": \"cases\", \"day_diff\": 7, \"value\": 0.9599375650364204}, {\"WHO_Region\": \"Europe\", \"count_type\": \"cases\", \"day_diff\": 8, \"value\": 0.9630593132154006}, {\"WHO_Region\": \"Europe\", \"count_type\": \"cases\", \"day_diff\": 9, \"value\": 0.9659209157127991}, {\"WHO_Region\": \"Europe\", \"count_type\": \"cases\", \"day_diff\": 10, \"value\": 0.9682622268470343}, {\"WHO_Region\": \"Europe\", \"count_type\": \"cases\", \"day_diff\": 11, \"value\": 0.9700832466181062}, {\"WHO_Region\": \"Europe\", \"count_type\": \"cases\", \"day_diff\": 12, \"value\": 0.9716441207075962}, {\"WHO_Region\": \"Europe\", \"count_type\": \"cases\", \"day_diff\": 13, \"value\": 0.972684703433923}, {\"WHO_Region\": \"Europe\", \"count_type\": \"cases\", \"day_diff\": 14, \"value\": 0.9737252861602498}, {\"WHO_Region\": \"Europe\", \"count_type\": \"cases\", \"day_diff\": 15, \"value\": 0.9747658688865765}, {\"WHO_Region\": \"Europe\", \"count_type\": \"cases\", \"day_diff\": 16, \"value\": 0.9758064516129032}, {\"WHO_Region\": \"Europe\", \"count_type\": \"cases\", \"day_diff\": 17, \"value\": 0.9765868886576483}, {\"WHO_Region\": \"Europe\", \"count_type\": \"cases\", \"day_diff\": 18, \"value\": 0.9771071800208116}, {\"WHO_Region\": \"Europe\", \"count_type\": \"cases\", \"day_diff\": 19, \"value\": 0.977627471383975}, {\"WHO_Region\": \"Europe\", \"count_type\": \"cases\", \"day_diff\": 20, \"value\": 0.9781477627471384}, {\"WHO_Region\": \"Europe\", \"count_type\": \"cases\", \"day_diff\": 21, \"value\": 0.9786680541103018}, {\"WHO_Region\": \"Europe\", \"count_type\": \"cases\", \"day_diff\": 22, \"value\": 0.9791883454734651}, {\"WHO_Region\": \"Europe\", \"count_type\": \"cases\", \"day_diff\": 23, \"value\": 0.9797086368366286}, {\"WHO_Region\": \"Europe\", \"count_type\": \"cases\", \"day_diff\": 24, \"value\": 0.9802289281997919}, {\"WHO_Region\": \"Europe\", \"count_type\": \"cases\", \"day_diff\": 25, \"value\": 0.9807492195629552}, {\"WHO_Region\": \"Europe\", \"count_type\": \"cases\", \"day_diff\": 26, \"value\": 0.9812695109261186}, {\"WHO_Region\": \"Europe\", \"count_type\": \"cases\", \"day_diff\": 27, \"value\": 0.981789802289282}, {\"WHO_Region\": \"Europe\", \"count_type\": \"cases\", \"day_diff\": 28, \"value\": 0.9823100936524454}, {\"WHO_Region\": \"Europe\", \"count_type\": \"cases\", \"day_diff\": 29, \"value\": 0.9828303850156087}, {\"WHO_Region\": \"Europe\", \"count_type\": \"deaths\", \"day_diff\": 0, \"value\": 0.0}, {\"WHO_Region\": \"Europe\", \"count_type\": \"deaths\", \"day_diff\": 1, \"value\": 0.6841831425598335}, {\"WHO_Region\": \"Europe\", \"count_type\": \"deaths\", \"day_diff\": 2, \"value\": 0.7817377731529657}, {\"WHO_Region\": \"Europe\", \"count_type\": \"deaths\", \"day_diff\": 3, \"value\": 0.8147762747138397}, {\"WHO_Region\": \"Europe\", \"count_type\": \"deaths\", \"day_diff\": 4, \"value\": 0.8371488033298647}, {\"WHO_Region\": \"Europe\", \"count_type\": \"deaths\", \"day_diff\": 5, \"value\": 0.8519771071800208}, {\"WHO_Region\": \"Europe\", \"count_type\": \"deaths\", \"day_diff\": 6, \"value\": 0.8629032258064516}, {\"WHO_Region\": \"Europe\", \"count_type\": \"deaths\", \"day_diff\": 7, \"value\": 0.8714880332986472}, {\"WHO_Region\": \"Europe\", \"count_type\": \"deaths\", \"day_diff\": 8, \"value\": 0.8785119667013528}, {\"WHO_Region\": \"Europe\", \"count_type\": \"deaths\", \"day_diff\": 9, \"value\": 0.8839750260145681}, {\"WHO_Region\": \"Europe\", \"count_type\": \"deaths\", \"day_diff\": 10, \"value\": 0.8894380853277836}, {\"WHO_Region\": \"Europe\", \"count_type\": \"deaths\", \"day_diff\": 11, \"value\": 0.8946409989594173}, {\"WHO_Region\": \"Europe\", \"count_type\": \"deaths\", \"day_diff\": 12, \"value\": 0.8995837669094693}, {\"WHO_Region\": \"Europe\", \"count_type\": \"deaths\", \"day_diff\": 13, \"value\": 0.9045265348595213}, {\"WHO_Region\": \"Europe\", \"count_type\": \"deaths\", \"day_diff\": 14, \"value\": 0.9092091571279917}, {\"WHO_Region\": \"Europe\", \"count_type\": \"deaths\", \"day_diff\": 15, \"value\": 0.913891779396462}, {\"WHO_Region\": \"Europe\", \"count_type\": \"deaths\", \"day_diff\": 16, \"value\": 0.918054110301769}, {\"WHO_Region\": \"Europe\", \"count_type\": \"deaths\", \"day_diff\": 17, \"value\": 0.9219562955254943}, {\"WHO_Region\": \"Europe\", \"count_type\": \"deaths\", \"day_diff\": 18, \"value\": 0.9255983350676379}, {\"WHO_Region\": \"Europe\", \"count_type\": \"deaths\", \"day_diff\": 19, \"value\": 0.9289802289281998}, {\"WHO_Region\": \"Europe\", \"count_type\": \"deaths\", \"day_diff\": 20, \"value\": 0.9318418314255983}, {\"WHO_Region\": \"Europe\", \"count_type\": \"deaths\", \"day_diff\": 21, \"value\": 0.9344432882414152}, {\"WHO_Region\": \"Europe\", \"count_type\": \"deaths\", \"day_diff\": 22, \"value\": 0.937044745057232}, {\"WHO_Region\": \"Europe\", \"count_type\": \"deaths\", \"day_diff\": 23, \"value\": 0.9396462018730489}, {\"WHO_Region\": \"Europe\", \"count_type\": \"deaths\", \"day_diff\": 24, \"value\": 0.9419875130072841}, {\"WHO_Region\": \"Europe\", \"count_type\": \"deaths\", \"day_diff\": 25, \"value\": 0.9440686784599376}, {\"WHO_Region\": \"Europe\", \"count_type\": \"deaths\", \"day_diff\": 26, \"value\": 0.946149843912591}, {\"WHO_Region\": \"Europe\", \"count_type\": \"deaths\", \"day_diff\": 27, \"value\": 0.9482310093652445}, {\"WHO_Region\": \"Europe\", \"count_type\": \"deaths\", \"day_diff\": 28, \"value\": 0.950312174817898}, {\"WHO_Region\": \"Europe\", \"count_type\": \"deaths\", \"day_diff\": 29, \"value\": 0.9523933402705516}, {\"WHO_Region\": \"Other\", \"count_type\": \"cases\", \"day_diff\": 0, \"value\": 0.0}, {\"WHO_Region\": \"Other\", \"count_type\": \"cases\", \"day_diff\": 1, \"value\": 0.04838709677419355}, {\"WHO_Region\": \"Other\", \"count_type\": \"cases\", \"day_diff\": 2, \"value\": 0.0967741935483871}, {\"WHO_Region\": \"Other\", \"count_type\": \"cases\", \"day_diff\": 3, \"value\": 0.14516129032258066}, {\"WHO_Region\": \"Other\", \"count_type\": \"cases\", \"day_diff\": 4, \"value\": 0.1935483870967742}, {\"WHO_Region\": \"Other\", \"count_type\": \"cases\", \"day_diff\": 5, \"value\": 0.24193548387096775}, {\"WHO_Region\": \"Other\", \"count_type\": \"cases\", \"day_diff\": 6, \"value\": 0.2903225806451613}, {\"WHO_Region\": \"Other\", \"count_type\": \"cases\", \"day_diff\": 7, \"value\": 0.3387096774193548}, {\"WHO_Region\": \"Other\", \"count_type\": \"cases\", \"day_diff\": 8, \"value\": 0.3870967741935484}, {\"WHO_Region\": \"Other\", \"count_type\": \"cases\", \"day_diff\": 9, \"value\": 0.41935483870967744}, {\"WHO_Region\": \"Other\", \"count_type\": \"cases\", \"day_diff\": 10, \"value\": 0.45161290322580644}, {\"WHO_Region\": \"Other\", \"count_type\": \"cases\", \"day_diff\": 11, \"value\": 0.4838709677419355}, {\"WHO_Region\": \"Other\", \"count_type\": \"cases\", \"day_diff\": 12, \"value\": 0.5161290322580645}, {\"WHO_Region\": \"Other\", \"count_type\": \"cases\", \"day_diff\": 13, \"value\": 0.5483870967741935}, {\"WHO_Region\": \"Other\", \"count_type\": \"cases\", \"day_diff\": 14, \"value\": 0.5806451612903226}, {\"WHO_Region\": \"Other\", \"count_type\": \"cases\", \"day_diff\": 15, \"value\": 0.6129032258064516}, {\"WHO_Region\": \"Other\", \"count_type\": \"cases\", \"day_diff\": 16, \"value\": 0.6451612903225806}, {\"WHO_Region\": \"Other\", \"count_type\": \"cases\", \"day_diff\": 17, \"value\": 0.6612903225806451}, {\"WHO_Region\": \"Other\", \"count_type\": \"cases\", \"day_diff\": 18, \"value\": 0.6774193548387096}, {\"WHO_Region\": \"Other\", \"count_type\": \"cases\", \"day_diff\": 19, \"value\": 0.6935483870967742}, {\"WHO_Region\": \"Other\", \"count_type\": \"cases\", \"day_diff\": 20, \"value\": 0.7096774193548387}, {\"WHO_Region\": \"Other\", \"count_type\": \"cases\", \"day_diff\": 21, \"value\": 0.7258064516129032}, {\"WHO_Region\": \"Other\", \"count_type\": \"cases\", \"day_diff\": 22, \"value\": 0.7419354838709677}, {\"WHO_Region\": \"Other\", \"count_type\": \"cases\", \"day_diff\": 23, \"value\": 0.7580645161290323}, {\"WHO_Region\": \"Other\", \"count_type\": \"cases\", \"day_diff\": 24, \"value\": 0.7741935483870968}, {\"WHO_Region\": \"Other\", \"count_type\": \"cases\", \"day_diff\": 25, \"value\": 0.7903225806451613}, {\"WHO_Region\": \"Other\", \"count_type\": \"cases\", \"day_diff\": 26, \"value\": 0.8064516129032258}, {\"WHO_Region\": \"Other\", \"count_type\": \"cases\", \"day_diff\": 27, \"value\": 0.8225806451612904}, {\"WHO_Region\": \"Other\", \"count_type\": \"cases\", \"day_diff\": 28, \"value\": 0.8387096774193549}, {\"WHO_Region\": \"Other\", \"count_type\": \"cases\", \"day_diff\": 29, \"value\": 0.8548387096774194}, {\"WHO_Region\": \"Other\", \"count_type\": \"deaths\", \"day_diff\": 0, \"value\": 0.0}, {\"WHO_Region\": \"Other\", \"count_type\": \"deaths\", \"day_diff\": 1, \"value\": 0.016129032258064516}, {\"WHO_Region\": \"Other\", \"count_type\": \"deaths\", \"day_diff\": 2, \"value\": 0.03225806451612903}, {\"WHO_Region\": \"Other\", \"count_type\": \"deaths\", \"day_diff\": 3, \"value\": 0.04838709677419355}, {\"WHO_Region\": \"Other\", \"count_type\": \"deaths\", \"day_diff\": 4, \"value\": 0.06451612903225806}, {\"WHO_Region\": \"Other\", \"count_type\": \"deaths\", \"day_diff\": 5, \"value\": 0.08064516129032258}, {\"WHO_Region\": \"Other\", \"count_type\": \"deaths\", \"day_diff\": 6, \"value\": 0.0967741935483871}, {\"WHO_Region\": \"Other\", \"count_type\": \"deaths\", \"day_diff\": 7, \"value\": 0.11290322580645161}, {\"WHO_Region\": \"Other\", \"count_type\": \"deaths\", \"day_diff\": 8, \"value\": 0.12903225806451613}, {\"WHO_Region\": \"Other\", \"count_type\": \"deaths\", \"day_diff\": 9, \"value\": 0.14516129032258066}, {\"WHO_Region\": \"Other\", \"count_type\": \"deaths\", \"day_diff\": 10, \"value\": 0.16129032258064516}, {\"WHO_Region\": \"Other\", \"count_type\": \"deaths\", \"day_diff\": 11, \"value\": 0.1774193548387097}, {\"WHO_Region\": \"Other\", \"count_type\": \"deaths\", \"day_diff\": 12, \"value\": 0.1935483870967742}, {\"WHO_Region\": \"Other\", \"count_type\": \"deaths\", \"day_diff\": 13, \"value\": 0.20967741935483872}, {\"WHO_Region\": \"Other\", \"count_type\": \"deaths\", \"day_diff\": 14, \"value\": 0.22580645161290322}, {\"WHO_Region\": \"Other\", \"count_type\": \"deaths\", \"day_diff\": 15, \"value\": 0.24193548387096775}, {\"WHO_Region\": \"Other\", \"count_type\": \"deaths\", \"day_diff\": 16, \"value\": 0.25806451612903225}, {\"WHO_Region\": \"Other\", \"count_type\": \"deaths\", \"day_diff\": 17, \"value\": 0.27419354838709675}, {\"WHO_Region\": \"Other\", \"count_type\": \"deaths\", \"day_diff\": 18, \"value\": 0.2903225806451613}, {\"WHO_Region\": \"Other\", \"count_type\": \"deaths\", \"day_diff\": 19, \"value\": 0.3064516129032258}, {\"WHO_Region\": \"Other\", \"count_type\": \"deaths\", \"day_diff\": 20, \"value\": 0.3225806451612903}, {\"WHO_Region\": \"Other\", \"count_type\": \"deaths\", \"day_diff\": 21, \"value\": 0.3387096774193548}, {\"WHO_Region\": \"Other\", \"count_type\": \"deaths\", \"day_diff\": 22, \"value\": 0.3548387096774194}, {\"WHO_Region\": \"Other\", \"count_type\": \"deaths\", \"day_diff\": 23, \"value\": 0.3709677419354839}, {\"WHO_Region\": \"Other\", \"count_type\": \"deaths\", \"day_diff\": 24, \"value\": 0.3870967741935484}, {\"WHO_Region\": \"Other\", \"count_type\": \"deaths\", \"day_diff\": 25, \"value\": 0.4032258064516129}, {\"WHO_Region\": \"Other\", \"count_type\": \"deaths\", \"day_diff\": 26, \"value\": 0.41935483870967744}, {\"WHO_Region\": \"Other\", \"count_type\": \"deaths\", \"day_diff\": 27, \"value\": 0.43548387096774194}, {\"WHO_Region\": \"Other\", \"count_type\": \"deaths\", \"day_diff\": 28, \"value\": 0.45161290322580644}, {\"WHO_Region\": \"Other\", \"count_type\": \"deaths\", \"day_diff\": 29, \"value\": 0.46774193548387094}, {\"WHO_Region\": \"South-East Asia\", \"count_type\": \"cases\", \"day_diff\": 0, \"value\": 0.0}, {\"WHO_Region\": \"South-East Asia\", \"count_type\": \"cases\", \"day_diff\": 1, \"value\": 0.7991202346041055}, {\"WHO_Region\": \"South-East Asia\", \"count_type\": \"cases\", \"day_diff\": 2, \"value\": 0.8548387096774194}, {\"WHO_Region\": \"South-East Asia\", \"count_type\": \"cases\", \"day_diff\": 3, \"value\": 0.8709677419354839}, {\"WHO_Region\": \"South-East Asia\", \"count_type\": \"cases\", \"day_diff\": 4, \"value\": 0.8812316715542522}, {\"WHO_Region\": \"South-East Asia\", \"count_type\": \"cases\", \"day_diff\": 5, \"value\": 0.8900293255131965}, {\"WHO_Region\": \"South-East Asia\", \"count_type\": \"cases\", \"day_diff\": 6, \"value\": 0.8958944281524927}, {\"WHO_Region\": \"South-East Asia\", \"count_type\": \"cases\", \"day_diff\": 7, \"value\": 0.9017595307917888}, {\"WHO_Region\": \"South-East Asia\", \"count_type\": \"cases\", \"day_diff\": 8, \"value\": 0.9046920821114369}, {\"WHO_Region\": \"South-East Asia\", \"count_type\": \"cases\", \"day_diff\": 9, \"value\": 0.907624633431085}, {\"WHO_Region\": \"South-East Asia\", \"count_type\": \"cases\", \"day_diff\": 10, \"value\": 0.9105571847507331}, {\"WHO_Region\": \"South-East Asia\", \"count_type\": \"cases\", \"day_diff\": 11, \"value\": 0.9134897360703812}, {\"WHO_Region\": \"South-East Asia\", \"count_type\": \"cases\", \"day_diff\": 12, \"value\": 0.9164222873900293}, {\"WHO_Region\": \"South-East Asia\", \"count_type\": \"cases\", \"day_diff\": 13, \"value\": 0.9193548387096774}, {\"WHO_Region\": \"South-East Asia\", \"count_type\": \"cases\", \"day_diff\": 14, \"value\": 0.9222873900293255}, {\"WHO_Region\": \"South-East Asia\", \"count_type\": \"cases\", \"day_diff\": 15, \"value\": 0.9252199413489736}, {\"WHO_Region\": \"South-East Asia\", \"count_type\": \"cases\", \"day_diff\": 16, \"value\": 0.9281524926686217}, {\"WHO_Region\": \"South-East Asia\", \"count_type\": \"cases\", \"day_diff\": 17, \"value\": 0.9310850439882697}, {\"WHO_Region\": \"South-East Asia\", \"count_type\": \"cases\", \"day_diff\": 18, \"value\": 0.9340175953079178}, {\"WHO_Region\": \"South-East Asia\", \"count_type\": \"cases\", \"day_diff\": 19, \"value\": 0.9369501466275659}, {\"WHO_Region\": \"South-East Asia\", \"count_type\": \"cases\", \"day_diff\": 20, \"value\": 0.9384164222873901}, {\"WHO_Region\": \"South-East Asia\", \"count_type\": \"cases\", \"day_diff\": 21, \"value\": 0.9398826979472141}, {\"WHO_Region\": \"South-East Asia\", \"count_type\": \"cases\", \"day_diff\": 22, \"value\": 0.9413489736070382}, {\"WHO_Region\": \"South-East Asia\", \"count_type\": \"cases\", \"day_diff\": 23, \"value\": 0.9428152492668622}, {\"WHO_Region\": \"South-East Asia\", \"count_type\": \"cases\", \"day_diff\": 24, \"value\": 0.9442815249266863}, {\"WHO_Region\": \"South-East Asia\", \"count_type\": \"cases\", \"day_diff\": 25, \"value\": 0.9457478005865103}, {\"WHO_Region\": \"South-East Asia\", \"count_type\": \"cases\", \"day_diff\": 26, \"value\": 0.9472140762463344}, {\"WHO_Region\": \"South-East Asia\", \"count_type\": \"cases\", \"day_diff\": 27, \"value\": 0.9486803519061584}, {\"WHO_Region\": \"South-East Asia\", \"count_type\": \"cases\", \"day_diff\": 28, \"value\": 0.9501466275659824}, {\"WHO_Region\": \"South-East Asia\", \"count_type\": \"cases\", \"day_diff\": 29, \"value\": 0.9516129032258065}, {\"WHO_Region\": \"South-East Asia\", \"count_type\": \"deaths\", \"day_diff\": 0, \"value\": 0.0}, {\"WHO_Region\": \"South-East Asia\", \"count_type\": \"deaths\", \"day_diff\": 1, \"value\": 0.5513196480938416}, {\"WHO_Region\": \"South-East Asia\", \"count_type\": \"deaths\", \"day_diff\": 2, \"value\": 0.6070381231671554}, {\"WHO_Region\": \"South-East Asia\", \"count_type\": \"deaths\", \"day_diff\": 3, \"value\": 0.6319648093841642}, {\"WHO_Region\": \"South-East Asia\", \"count_type\": \"deaths\", \"day_diff\": 4, \"value\": 0.6510263929618768}, {\"WHO_Region\": \"South-East Asia\", \"count_type\": \"deaths\", \"day_diff\": 5, \"value\": 0.6656891495601173}, {\"WHO_Region\": \"South-East Asia\", \"count_type\": \"deaths\", \"day_diff\": 6, \"value\": 0.6803519061583577}, {\"WHO_Region\": \"South-East Asia\", \"count_type\": \"deaths\", \"day_diff\": 7, \"value\": 0.6935483870967742}, {\"WHO_Region\": \"South-East Asia\", \"count_type\": \"deaths\", \"day_diff\": 8, \"value\": 0.7052785923753666}, {\"WHO_Region\": \"South-East Asia\", \"count_type\": \"deaths\", \"day_diff\": 9, \"value\": 0.717008797653959}, {\"WHO_Region\": \"South-East Asia\", \"count_type\": \"deaths\", \"day_diff\": 10, \"value\": 0.7287390029325513}, {\"WHO_Region\": \"South-East Asia\", \"count_type\": \"deaths\", \"day_diff\": 11, \"value\": 0.7390029325513197}, {\"WHO_Region\": \"South-East Asia\", \"count_type\": \"deaths\", \"day_diff\": 12, \"value\": 0.749266862170088}, {\"WHO_Region\": \"South-East Asia\", \"count_type\": \"deaths\", \"day_diff\": 13, \"value\": 0.7595307917888563}, {\"WHO_Region\": \"South-East Asia\", \"count_type\": \"deaths\", \"day_diff\": 14, \"value\": 0.7697947214076246}, {\"WHO_Region\": \"South-East Asia\", \"count_type\": \"deaths\", \"day_diff\": 15, \"value\": 0.7785923753665689}, {\"WHO_Region\": \"South-East Asia\", \"count_type\": \"deaths\", \"day_diff\": 16, \"value\": 0.7873900293255132}, {\"WHO_Region\": \"South-East Asia\", \"count_type\": \"deaths\", \"day_diff\": 17, \"value\": 0.7961876832844574}, {\"WHO_Region\": \"South-East Asia\", \"count_type\": \"deaths\", \"day_diff\": 18, \"value\": 0.8049853372434017}, {\"WHO_Region\": \"South-East Asia\", \"count_type\": \"deaths\", \"day_diff\": 19, \"value\": 0.8137829912023461}, {\"WHO_Region\": \"South-East Asia\", \"count_type\": \"deaths\", \"day_diff\": 20, \"value\": 0.8225806451612904}, {\"WHO_Region\": \"South-East Asia\", \"count_type\": \"deaths\", \"day_diff\": 21, \"value\": 0.8313782991202346}, {\"WHO_Region\": \"South-East Asia\", \"count_type\": \"deaths\", \"day_diff\": 22, \"value\": 0.8401759530791789}, {\"WHO_Region\": \"South-East Asia\", \"count_type\": \"deaths\", \"day_diff\": 23, \"value\": 0.8475073313782991}, {\"WHO_Region\": \"South-East Asia\", \"count_type\": \"deaths\", \"day_diff\": 24, \"value\": 0.8548387096774194}, {\"WHO_Region\": \"South-East Asia\", \"count_type\": \"deaths\", \"day_diff\": 25, \"value\": 0.8621700879765396}, {\"WHO_Region\": \"South-East Asia\", \"count_type\": \"deaths\", \"day_diff\": 26, \"value\": 0.8695014662756598}, {\"WHO_Region\": \"South-East Asia\", \"count_type\": \"deaths\", \"day_diff\": 27, \"value\": 0.875366568914956}, {\"WHO_Region\": \"South-East Asia\", \"count_type\": \"deaths\", \"day_diff\": 28, \"value\": 0.8812316715542522}, {\"WHO_Region\": \"South-East Asia\", \"count_type\": \"deaths\", \"day_diff\": 29, \"value\": 0.8870967741935484}, {\"WHO_Region\": \"Western Pacific\", \"count_type\": \"cases\", \"day_diff\": 0, \"value\": 0.0}, {\"WHO_Region\": \"Western Pacific\", \"count_type\": \"cases\", \"day_diff\": 1, \"value\": 0.37327188940092165}, {\"WHO_Region\": \"Western Pacific\", \"count_type\": \"cases\", \"day_diff\": 2, \"value\": 0.4336405529953917}, {\"WHO_Region\": \"Western Pacific\", \"count_type\": \"cases\", \"day_diff\": 3, \"value\": 0.4714285714285714}, {\"WHO_Region\": \"Western Pacific\", \"count_type\": \"cases\", \"day_diff\": 4, \"value\": 0.4986175115207373}, {\"WHO_Region\": \"Western Pacific\", \"count_type\": \"cases\", \"day_diff\": 5, \"value\": 0.5211981566820276}, {\"WHO_Region\": \"Western Pacific\", \"count_type\": \"cases\", \"day_diff\": 6, \"value\": 0.5414746543778802}, {\"WHO_Region\": \"Western Pacific\", \"count_type\": \"cases\", \"day_diff\": 7, \"value\": 0.5589861751152074}, {\"WHO_Region\": \"Western Pacific\", \"count_type\": \"cases\", \"day_diff\": 8, \"value\": 0.5746543778801844}, {\"WHO_Region\": \"Western Pacific\", \"count_type\": \"cases\", \"day_diff\": 9, \"value\": 0.5898617511520737}, {\"WHO_Region\": \"Western Pacific\", \"count_type\": \"cases\", \"day_diff\": 10, \"value\": 0.604147465437788}, {\"WHO_Region\": \"Western Pacific\", \"count_type\": \"cases\", \"day_diff\": 11, \"value\": 0.6161290322580645}, {\"WHO_Region\": \"Western Pacific\", \"count_type\": \"cases\", \"day_diff\": 12, \"value\": 0.6271889400921659}, {\"WHO_Region\": \"Western Pacific\", \"count_type\": \"cases\", \"day_diff\": 13, \"value\": 0.6382488479262672}, {\"WHO_Region\": \"Western Pacific\", \"count_type\": \"cases\", \"day_diff\": 14, \"value\": 0.6483870967741936}, {\"WHO_Region\": \"Western Pacific\", \"count_type\": \"cases\", \"day_diff\": 15, \"value\": 0.6580645161290323}, {\"WHO_Region\": \"Western Pacific\", \"count_type\": \"cases\", \"day_diff\": 16, \"value\": 0.6668202764976958}, {\"WHO_Region\": \"Western Pacific\", \"count_type\": \"cases\", \"day_diff\": 17, \"value\": 0.6755760368663595}, {\"WHO_Region\": \"Western Pacific\", \"count_type\": \"cases\", \"day_diff\": 18, \"value\": 0.684331797235023}, {\"WHO_Region\": \"Western Pacific\", \"count_type\": \"cases\", \"day_diff\": 19, \"value\": 0.6921658986175115}, {\"WHO_Region\": \"Western Pacific\", \"count_type\": \"cases\", \"day_diff\": 20, \"value\": 0.7}, {\"WHO_Region\": \"Western Pacific\", \"count_type\": \"cases\", \"day_diff\": 21, \"value\": 0.7078341013824885}, {\"WHO_Region\": \"Western Pacific\", \"count_type\": \"cases\", \"day_diff\": 22, \"value\": 0.7161290322580646}, {\"WHO_Region\": \"Western Pacific\", \"count_type\": \"cases\", \"day_diff\": 23, \"value\": 0.7244239631336405}, {\"WHO_Region\": \"Western Pacific\", \"count_type\": \"cases\", \"day_diff\": 24, \"value\": 0.7327188940092166}, {\"WHO_Region\": \"Western Pacific\", \"count_type\": \"cases\", \"day_diff\": 25, \"value\": 0.7410138248847926}, {\"WHO_Region\": \"Western Pacific\", \"count_type\": \"cases\", \"day_diff\": 26, \"value\": 0.7488479262672811}, {\"WHO_Region\": \"Western Pacific\", \"count_type\": \"cases\", \"day_diff\": 27, \"value\": 0.7566820276497696}, {\"WHO_Region\": \"Western Pacific\", \"count_type\": \"cases\", \"day_diff\": 28, \"value\": 0.7645161290322581}, {\"WHO_Region\": \"Western Pacific\", \"count_type\": \"cases\", \"day_diff\": 29, \"value\": 0.7723502304147466}, {\"WHO_Region\": \"Western Pacific\", \"count_type\": \"deaths\", \"day_diff\": 0, \"value\": 0.0}, {\"WHO_Region\": \"Western Pacific\", \"count_type\": \"deaths\", \"day_diff\": 1, \"value\": 0.16497695852534563}, {\"WHO_Region\": \"Western Pacific\", \"count_type\": \"deaths\", \"day_diff\": 2, \"value\": 0.20092165898617512}, {\"WHO_Region\": \"Western Pacific\", \"count_type\": \"deaths\", \"day_diff\": 3, \"value\": 0.22764976958525346}, {\"WHO_Region\": \"Western Pacific\", \"count_type\": \"deaths\", \"day_diff\": 4, \"value\": 0.25069124423963135}, {\"WHO_Region\": \"Western Pacific\", \"count_type\": \"deaths\", \"day_diff\": 5, \"value\": 0.2709677419354839}, {\"WHO_Region\": \"Western Pacific\", \"count_type\": \"deaths\", \"day_diff\": 6, \"value\": 0.2889400921658986}, {\"WHO_Region\": \"Western Pacific\", \"count_type\": \"deaths\", \"day_diff\": 7, \"value\": 0.30599078341013825}, {\"WHO_Region\": \"Western Pacific\", \"count_type\": \"deaths\", \"day_diff\": 8, \"value\": 0.3216589861751152}, {\"WHO_Region\": \"Western Pacific\", \"count_type\": \"deaths\", \"day_diff\": 9, \"value\": 0.3368663594470046}, {\"WHO_Region\": \"Western Pacific\", \"count_type\": \"deaths\", \"day_diff\": 10, \"value\": 0.3511520737327189}, {\"WHO_Region\": \"Western Pacific\", \"count_type\": \"deaths\", \"day_diff\": 11, \"value\": 0.3654377880184332}, {\"WHO_Region\": \"Western Pacific\", \"count_type\": \"deaths\", \"day_diff\": 12, \"value\": 0.3797235023041475}, {\"WHO_Region\": \"Western Pacific\", \"count_type\": \"deaths\", \"day_diff\": 13, \"value\": 0.3935483870967742}, {\"WHO_Region\": \"Western Pacific\", \"count_type\": \"deaths\", \"day_diff\": 14, \"value\": 0.40691244239631336}, {\"WHO_Region\": \"Western Pacific\", \"count_type\": \"deaths\", \"day_diff\": 15, \"value\": 0.4202764976958525}, {\"WHO_Region\": \"Western Pacific\", \"count_type\": \"deaths\", \"day_diff\": 16, \"value\": 0.4336405529953917}, {\"WHO_Region\": \"Western Pacific\", \"count_type\": \"deaths\", \"day_diff\": 17, \"value\": 0.4470046082949309}, {\"WHO_Region\": \"Western Pacific\", \"count_type\": \"deaths\", \"day_diff\": 18, \"value\": 0.46036866359447004}, {\"WHO_Region\": \"Western Pacific\", \"count_type\": \"deaths\", \"day_diff\": 19, \"value\": 0.4737327188940092}, {\"WHO_Region\": \"Western Pacific\", \"count_type\": \"deaths\", \"day_diff\": 20, \"value\": 0.4870967741935484}, {\"WHO_Region\": \"Western Pacific\", \"count_type\": \"deaths\", \"day_diff\": 21, \"value\": 0.5004608294930876}, {\"WHO_Region\": \"Western Pacific\", \"count_type\": \"deaths\", \"day_diff\": 22, \"value\": 0.5138248847926268}, {\"WHO_Region\": \"Western Pacific\", \"count_type\": \"deaths\", \"day_diff\": 23, \"value\": 0.5271889400921659}, {\"WHO_Region\": \"Western Pacific\", \"count_type\": \"deaths\", \"day_diff\": 24, \"value\": 0.5405529953917051}, {\"WHO_Region\": \"Western Pacific\", \"count_type\": \"deaths\", \"day_diff\": 25, \"value\": 0.5539170506912442}, {\"WHO_Region\": \"Western Pacific\", \"count_type\": \"deaths\", \"day_diff\": 26, \"value\": 0.5672811059907834}, {\"WHO_Region\": \"Western Pacific\", \"count_type\": \"deaths\", \"day_diff\": 27, \"value\": 0.5806451612903226}, {\"WHO_Region\": \"Western Pacific\", \"count_type\": \"deaths\", \"day_diff\": 28, \"value\": 0.5935483870967742}, {\"WHO_Region\": \"Western Pacific\", \"count_type\": \"deaths\", \"day_diff\": 29, \"value\": 0.6064516129032258}]}}, {\"mode\": \"vega-lite\"});\n",
       "</script>"
      ],
      "text/plain": [
       "alt.Chart(...)"
      ]
     },
     "execution_count": 22,
     "metadata": {},
     "output_type": "execute_result"
    }
   ],
   "source": [
    "alt.Chart(diffs_over_time_relative_per_region.reset_index()).mark_bar(size=7).encode(\n",
    "    x=alt.X(\n",
    "        \"day_diff\", title=\"Days until next report\", scale=alt.Scale(domain=(1, 29))\n",
    "    ),\n",
    "    y=alt.Y(\n",
    "        \"value\", axis=alt.Axis(format=\"%\"), title=\"Proportion that made a new report\"\n",
    "    ),\n",
    "    color=alt.Color(\"count_type\", title=\"Reporting type\"),\n",
    "    facet=alt.Facet(\"WHO_Region\", columns=2),\n",
    ").resolve_scale(x=\"independent\")"
   ]
  },
  {
   "cell_type": "markdown",
   "id": "saving-mountain",
   "metadata": {},
   "source": [
    "Let's check when we are most likely to encouter days without new reports."
   ]
  },
  {
   "cell_type": "code",
   "execution_count": 23,
   "id": "global-paste",
   "metadata": {},
   "outputs": [],
   "source": [
    "def highlight_min(s):\n",
    "    is_max = s == s.min()\n",
    "    return [\"background-color: green\" if v else \"\" for v in is_max]\n",
    "\n",
    "\n",
    "def highlight_max(s):\n",
    "    is_max = s == s.max()\n",
    "    return [\"background-color: red\" if v else \"\" for v in is_max]"
   ]
  },
  {
   "cell_type": "code",
   "execution_count": 24,
   "id": "answering-facing",
   "metadata": {},
   "outputs": [],
   "source": [
    "def show_week_day_statistic(timeseries):\n",
    "    week_day_statistic = (\n",
    "        timeseries.assign(\n",
    "            day_name=lambda x: x.date.apply(lambda y: pd.to_datetime(y).day_name())\n",
    "        )\n",
    "        .sort_values(by=[\"WHO_Name\", \"date\"])\n",
    "        .set_index([\"WHO_Name\", \"date\", \"day_name\"])\n",
    "        .groupby([\"WHO_Name\", \"day_name\"])[[\"cases_cumulative\", \"deaths_cumulative\"]]\n",
    "        .diff(1)\n",
    "        .groupby(\"day_name\")\n",
    "        .agg(lambda x: sum(x != 0))\n",
    "    )\n",
    "    return (\n",
    "        (week_day_statistic / week_day_statistic.sum() * 100)\n",
    "        .style.apply(highlight_max)\n",
    "        .apply(highlight_min)\n",
    "    )"
   ]
  },
  {
   "cell_type": "code",
   "execution_count": 25,
   "id": "humanitarian-genome",
   "metadata": {},
   "outputs": [],
   "source": [
    "week_day_statistic = (\n",
    "    timeseries.assign(\n",
    "        day_name=lambda x: x.date.apply(lambda y: pd.to_datetime(y).day_name())\n",
    "    )\n",
    "    .sort_values(by=[\"WHO_Name\", \"date\"])\n",
    "    .set_index([\"WHO_Name\", \"date\", \"day_name\"])\n",
    "    .groupby([\"WHO_Name\", \"day_name\"])[[\"cases_cumulative\", \"deaths_cumulative\"]]\n",
    "    .diff(1)\n",
    "    .groupby(\"day_name\")\n",
    "    .agg(lambda x: sum(x != 0))\n",
    ")"
   ]
  },
  {
   "cell_type": "code",
   "execution_count": 26,
   "id": "emerging-indonesian",
   "metadata": {},
   "outputs": [
    {
     "data": {
      "text/html": [
       "<style  type=\"text/css\" >\n",
       "#T_aa137_row1_col0,#T_aa137_row1_col1{\n",
       "            background-color:  green;\n",
       "        }#T_aa137_row2_col1,#T_aa137_row5_col0{\n",
       "            background-color:  red;\n",
       "        }</style><table id=\"T_aa137_\" ><thead>    <tr>        <th class=\"blank level0\" ></th>        <th class=\"col_heading level0 col0\" >cases_cumulative</th>        <th class=\"col_heading level0 col1\" >deaths_cumulative</th>    </tr>    <tr>        <th class=\"index_name level0\" >day_name</th>        <th class=\"blank\" ></th>        <th class=\"blank\" ></th>    </tr></thead><tbody>\n",
       "                <tr>\n",
       "                        <th id=\"T_aa137_level0_row0\" class=\"row_heading level0 row0\" >Friday</th>\n",
       "                        <td id=\"T_aa137_row0_col0\" class=\"data row0 col0\" >14.538491</td>\n",
       "                        <td id=\"T_aa137_row0_col1\" class=\"data row0 col1\" >14.489615</td>\n",
       "            </tr>\n",
       "            <tr>\n",
       "                        <th id=\"T_aa137_level0_row1\" class=\"row_heading level0 row1\" >Monday</th>\n",
       "                        <td id=\"T_aa137_row1_col0\" class=\"data row1 col0\" >12.937572</td>\n",
       "                        <td id=\"T_aa137_row1_col1\" class=\"data row1 col1\" >13.131214</td>\n",
       "            </tr>\n",
       "            <tr>\n",
       "                        <th id=\"T_aa137_level0_row2\" class=\"row_heading level0 row2\" >Saturday</th>\n",
       "                        <td id=\"T_aa137_row2_col0\" class=\"data row2 col0\" >14.523171</td>\n",
       "                        <td id=\"T_aa137_row2_col1\" class=\"data row2 col1\" >14.509302</td>\n",
       "            </tr>\n",
       "            <tr>\n",
       "                        <th id=\"T_aa137_level0_row3\" class=\"row_heading level0 row3\" >Sunday</th>\n",
       "                        <td id=\"T_aa137_row3_col0\" class=\"data row3 col0\" >14.446572</td>\n",
       "                        <td id=\"T_aa137_row3_col1\" class=\"data row3 col1\" >14.460085</td>\n",
       "            </tr>\n",
       "            <tr>\n",
       "                        <th id=\"T_aa137_level0_row4\" class=\"row_heading level0 row4\" >Thursday</th>\n",
       "                        <td id=\"T_aa137_row4_col0\" class=\"data row4 col0\" >14.538491</td>\n",
       "                        <td id=\"T_aa137_row4_col1\" class=\"data row4 col1\" >14.479772</td>\n",
       "            </tr>\n",
       "            <tr>\n",
       "                        <th id=\"T_aa137_level0_row5\" class=\"row_heading level0 row5\" >Tuesday</th>\n",
       "                        <td id=\"T_aa137_row5_col0\" class=\"data row5 col0\" >14.546151</td>\n",
       "                        <td id=\"T_aa137_row5_col1\" class=\"data row5 col1\" >14.499459</td>\n",
       "            </tr>\n",
       "            <tr>\n",
       "                        <th id=\"T_aa137_level0_row6\" class=\"row_heading level0 row6\" >Wednesday</th>\n",
       "                        <td id=\"T_aa137_row6_col0\" class=\"data row6 col0\" >14.469552</td>\n",
       "                        <td id=\"T_aa137_row6_col1\" class=\"data row6 col1\" >14.430554</td>\n",
       "            </tr>\n",
       "    </tbody></table>"
      ],
      "text/plain": [
       "<pandas.io.formats.style.Styler at 0x7f0596b349d0>"
      ]
     },
     "execution_count": 26,
     "metadata": {},
     "output_type": "execute_result"
    }
   ],
   "source": [
    "show_week_day_statistic(timeseries)"
   ]
  },
  {
   "cell_type": "markdown",
   "id": "spatial-poultry",
   "metadata": {},
   "source": [
    "We can see that least days without new reported cases and deaths (12.94% and 13.13% respectively) are reported on a Monday. The value is the highest on Tuesday for case and Saturday for death reports. This could explain why the strong manjority does not reports new numbers every day besides not having anything to report: There might be a reporting gap during the weekend."
   ]
  },
  {
   "cell_type": "code",
   "execution_count": 27,
   "id": "royal-frank",
   "metadata": {},
   "outputs": [
    {
     "data": {
      "text/html": [
       "<b>Americas</b>"
      ],
      "text/plain": [
       "<IPython.core.display.HTML object>"
      ]
     },
     "metadata": {},
     "output_type": "display_data"
    },
    {
     "data": {
      "text/html": [
       "<style  type=\"text/css\" >\n",
       "#T_04c7b_row0_col0,#T_04c7b_row0_col1{\n",
       "            background-color:  red;\n",
       "        }#T_04c7b_row1_col0,#T_04c7b_row1_col1{\n",
       "            background-color:  green;\n",
       "        }</style><table id=\"T_04c7b_\" ><thead>    <tr>        <th class=\"blank level0\" ></th>        <th class=\"col_heading level0 col0\" >cases_cumulative</th>        <th class=\"col_heading level0 col1\" >deaths_cumulative</th>    </tr>    <tr>        <th class=\"index_name level0\" >day_name</th>        <th class=\"blank\" ></th>        <th class=\"blank\" ></th>    </tr></thead><tbody>\n",
       "                <tr>\n",
       "                        <th id=\"T_04c7b_level0_row0\" class=\"row_heading level0 row0\" >Friday</th>\n",
       "                        <td id=\"T_04c7b_row0_col0\" class=\"data row0 col0\" >14.650873</td>\n",
       "                        <td id=\"T_04c7b_row0_col1\" class=\"data row0 col1\" >14.616432</td>\n",
       "            </tr>\n",
       "            <tr>\n",
       "                        <th id=\"T_04c7b_level0_row1\" class=\"row_heading level0 row1\" >Monday</th>\n",
       "                        <td id=\"T_04c7b_row1_col0\" class=\"data row1 col0\" >12.874065</td>\n",
       "                        <td id=\"T_04c7b_row1_col1\" class=\"data row1 col1\" >13.163867</td>\n",
       "            </tr>\n",
       "            <tr>\n",
       "                        <th id=\"T_04c7b_level0_row2\" class=\"row_heading level0 row2\" >Saturday</th>\n",
       "                        <td id=\"T_04c7b_row2_col0\" class=\"data row2 col0\" >14.463840</td>\n",
       "                        <td id=\"T_04c7b_row2_col1\" class=\"data row2 col1\" >14.525647</td>\n",
       "            </tr>\n",
       "            <tr>\n",
       "                        <th id=\"T_04c7b_level0_row3\" class=\"row_heading level0 row3\" >Sunday</th>\n",
       "                        <td id=\"T_04c7b_row3_col0\" class=\"data row3 col0\" >14.401496</td>\n",
       "                        <td id=\"T_04c7b_row3_col1\" class=\"data row3 col1\" >14.480254</td>\n",
       "            </tr>\n",
       "            <tr>\n",
       "                        <th id=\"T_04c7b_level0_row4\" class=\"row_heading level0 row4\" >Thursday</th>\n",
       "                        <td id=\"T_04c7b_row4_col0\" class=\"data row4 col0\" >14.557357</td>\n",
       "                        <td id=\"T_04c7b_row4_col1\" class=\"data row4 col1\" >14.571039</td>\n",
       "            </tr>\n",
       "            <tr>\n",
       "                        <th id=\"T_04c7b_level0_row5\" class=\"row_heading level0 row5\" >Tuesday</th>\n",
       "                        <td id=\"T_04c7b_row5_col0\" class=\"data row5 col0\" >14.557357</td>\n",
       "                        <td id=\"T_04c7b_row5_col1\" class=\"data row5 col1\" >14.298684</td>\n",
       "            </tr>\n",
       "            <tr>\n",
       "                        <th id=\"T_04c7b_level0_row6\" class=\"row_heading level0 row6\" >Wednesday</th>\n",
       "                        <td id=\"T_04c7b_row6_col0\" class=\"data row6 col0\" >14.495012</td>\n",
       "                        <td id=\"T_04c7b_row6_col1\" class=\"data row6 col1\" >14.344076</td>\n",
       "            </tr>\n",
       "    </tbody></table>"
      ],
      "text/plain": [
       "<pandas.io.formats.style.Styler at 0x7f0593e495e0>"
      ]
     },
     "metadata": {},
     "output_type": "display_data"
    },
    {
     "name": "stdout",
     "output_type": "stream",
     "text": [
      "\n",
      "\n",
      "\n"
     ]
    },
    {
     "data": {
      "text/html": [
       "<b>South-East Asia</b>"
      ],
      "text/plain": [
       "<IPython.core.display.HTML object>"
      ]
     },
     "metadata": {},
     "output_type": "display_data"
    },
    {
     "data": {
      "text/html": [
       "<style  type=\"text/css\" >\n",
       "#T_42803_row0_col1,#T_42803_row2_col1,#T_42803_row5_col1,#T_42803_row6_col0{\n",
       "            background-color:  red;\n",
       "        }#T_42803_row1_col0,#T_42803_row1_col1{\n",
       "            background-color:  green;\n",
       "        }</style><table id=\"T_42803_\" ><thead>    <tr>        <th class=\"blank level0\" ></th>        <th class=\"col_heading level0 col0\" >cases_cumulative</th>        <th class=\"col_heading level0 col1\" >deaths_cumulative</th>    </tr>    <tr>        <th class=\"index_name level0\" >day_name</th>        <th class=\"blank\" ></th>        <th class=\"blank\" ></th>    </tr></thead><tbody>\n",
       "                <tr>\n",
       "                        <th id=\"T_42803_level0_row0\" class=\"row_heading level0 row0\" >Friday</th>\n",
       "                        <td id=\"T_42803_row0_col0\" class=\"data row0 col0\" >14.471545</td>\n",
       "                        <td id=\"T_42803_row0_col1\" class=\"data row0 col1\" >14.587738</td>\n",
       "            </tr>\n",
       "            <tr>\n",
       "                        <th id=\"T_42803_level0_row1\" class=\"row_heading level0 row1\" >Monday</th>\n",
       "                        <td id=\"T_42803_row1_col0\" class=\"data row1 col0\" >13.008130</td>\n",
       "                        <td id=\"T_42803_row1_col1\" class=\"data row1 col1\" >13.107822</td>\n",
       "            </tr>\n",
       "            <tr>\n",
       "                        <th id=\"T_42803_level0_row2\" class=\"row_heading level0 row2\" >Saturday</th>\n",
       "                        <td id=\"T_42803_row2_col0\" class=\"data row2 col0\" >14.471545</td>\n",
       "                        <td id=\"T_42803_row2_col1\" class=\"data row2 col1\" >14.587738</td>\n",
       "            </tr>\n",
       "            <tr>\n",
       "                        <th id=\"T_42803_level0_row3\" class=\"row_heading level0 row3\" >Sunday</th>\n",
       "                        <td id=\"T_42803_row3_col0\" class=\"data row3 col0\" >14.471545</td>\n",
       "                        <td id=\"T_42803_row3_col1\" class=\"data row3 col1\" >14.376321</td>\n",
       "            </tr>\n",
       "            <tr>\n",
       "                        <th id=\"T_42803_level0_row4\" class=\"row_heading level0 row4\" >Thursday</th>\n",
       "                        <td id=\"T_42803_row4_col0\" class=\"data row4 col0\" >14.471545</td>\n",
       "                        <td id=\"T_42803_row4_col1\" class=\"data row4 col1\" >14.376321</td>\n",
       "            </tr>\n",
       "            <tr>\n",
       "                        <th id=\"T_42803_level0_row5\" class=\"row_heading level0 row5\" >Tuesday</th>\n",
       "                        <td id=\"T_42803_row5_col0\" class=\"data row5 col0\" >14.471545</td>\n",
       "                        <td id=\"T_42803_row5_col1\" class=\"data row5 col1\" >14.587738</td>\n",
       "            </tr>\n",
       "            <tr>\n",
       "                        <th id=\"T_42803_level0_row6\" class=\"row_heading level0 row6\" >Wednesday</th>\n",
       "                        <td id=\"T_42803_row6_col0\" class=\"data row6 col0\" >14.634146</td>\n",
       "                        <td id=\"T_42803_row6_col1\" class=\"data row6 col1\" >14.376321</td>\n",
       "            </tr>\n",
       "    </tbody></table>"
      ],
      "text/plain": [
       "<pandas.io.formats.style.Styler at 0x7f0596f51280>"
      ]
     },
     "metadata": {},
     "output_type": "display_data"
    },
    {
     "name": "stdout",
     "output_type": "stream",
     "text": [
      "\n",
      "\n",
      "\n"
     ]
    },
    {
     "data": {
      "text/html": [
       "<b>Europe</b>"
      ],
      "text/plain": [
       "<IPython.core.display.HTML object>"
      ]
     },
     "metadata": {},
     "output_type": "display_data"
    },
    {
     "data": {
      "text/html": [
       "<style  type=\"text/css\" >\n",
       "#T_0c037_row0_col0,#T_0c037_row2_col0,#T_0c037_row3_col0,#T_0c037_row4_col0,#T_0c037_row5_col1{\n",
       "            background-color:  red;\n",
       "        }#T_0c037_row1_col0,#T_0c037_row1_col1{\n",
       "            background-color:  green;\n",
       "        }</style><table id=\"T_0c037_\" ><thead>    <tr>        <th class=\"blank level0\" ></th>        <th class=\"col_heading level0 col0\" >cases_cumulative</th>        <th class=\"col_heading level0 col1\" >deaths_cumulative</th>    </tr>    <tr>        <th class=\"index_name level0\" >day_name</th>        <th class=\"blank\" ></th>        <th class=\"blank\" ></th>    </tr></thead><tbody>\n",
       "                <tr>\n",
       "                        <th id=\"T_0c037_level0_row0\" class=\"row_heading level0 row0\" >Friday</th>\n",
       "                        <td id=\"T_0c037_row0_col0\" class=\"data row0 col0\" >14.525745</td>\n",
       "                        <td id=\"T_0c037_row0_col1\" class=\"data row0 col1\" >14.447761</td>\n",
       "            </tr>\n",
       "            <tr>\n",
       "                        <th id=\"T_0c037_level0_row1\" class=\"row_heading level0 row1\" >Monday</th>\n",
       "                        <td id=\"T_0c037_row1_col0\" class=\"data row1 col0\" >12.926829</td>\n",
       "                        <td id=\"T_0c037_row1_col1\" class=\"data row1 col1\" >13.014925</td>\n",
       "            </tr>\n",
       "            <tr>\n",
       "                        <th id=\"T_0c037_level0_row2\" class=\"row_heading level0 row2\" >Saturday</th>\n",
       "                        <td id=\"T_0c037_row2_col0\" class=\"data row2 col0\" >14.525745</td>\n",
       "                        <td id=\"T_0c037_row2_col1\" class=\"data row2 col1\" >14.477612</td>\n",
       "            </tr>\n",
       "            <tr>\n",
       "                        <th id=\"T_0c037_level0_row3\" class=\"row_heading level0 row3\" >Sunday</th>\n",
       "                        <td id=\"T_0c037_row3_col0\" class=\"data row3 col0\" >14.525745</td>\n",
       "                        <td id=\"T_0c037_row3_col1\" class=\"data row3 col1\" >14.537313</td>\n",
       "            </tr>\n",
       "            <tr>\n",
       "                        <th id=\"T_0c037_level0_row4\" class=\"row_heading level0 row4\" >Thursday</th>\n",
       "                        <td id=\"T_0c037_row4_col0\" class=\"data row4 col0\" >14.525745</td>\n",
       "                        <td id=\"T_0c037_row4_col1\" class=\"data row4 col1\" >14.477612</td>\n",
       "            </tr>\n",
       "            <tr>\n",
       "                        <th id=\"T_0c037_level0_row5\" class=\"row_heading level0 row5\" >Tuesday</th>\n",
       "                        <td id=\"T_0c037_row5_col0\" class=\"data row5 col0\" >14.498645</td>\n",
       "                        <td id=\"T_0c037_row5_col1\" class=\"data row5 col1\" >14.597015</td>\n",
       "            </tr>\n",
       "            <tr>\n",
       "                        <th id=\"T_0c037_level0_row6\" class=\"row_heading level0 row6\" >Wednesday</th>\n",
       "                        <td id=\"T_0c037_row6_col0\" class=\"data row6 col0\" >14.471545</td>\n",
       "                        <td id=\"T_0c037_row6_col1\" class=\"data row6 col1\" >14.447761</td>\n",
       "            </tr>\n",
       "    </tbody></table>"
      ],
      "text/plain": [
       "<pandas.io.formats.style.Styler at 0x7f0593e3f760>"
      ]
     },
     "metadata": {},
     "output_type": "display_data"
    },
    {
     "name": "stdout",
     "output_type": "stream",
     "text": [
      "\n",
      "\n",
      "\n"
     ]
    },
    {
     "data": {
      "text/html": [
       "<b>Eastern Mediterranean</b>"
      ],
      "text/plain": [
       "<IPython.core.display.HTML object>"
      ]
     },
     "metadata": {},
     "output_type": "display_data"
    },
    {
     "data": {
      "text/html": [
       "<style  type=\"text/css\" >\n",
       "#T_2f843_row1_col0,#T_2f843_row1_col1{\n",
       "            background-color:  green;\n",
       "        }#T_2f843_row3_col0,#T_2f843_row5_col1{\n",
       "            background-color:  red;\n",
       "        }</style><table id=\"T_2f843_\" ><thead>    <tr>        <th class=\"blank level0\" ></th>        <th class=\"col_heading level0 col0\" >cases_cumulative</th>        <th class=\"col_heading level0 col1\" >deaths_cumulative</th>    </tr>    <tr>        <th class=\"index_name level0\" >day_name</th>        <th class=\"blank\" ></th>        <th class=\"blank\" ></th>    </tr></thead><tbody>\n",
       "                <tr>\n",
       "                        <th id=\"T_2f843_level0_row0\" class=\"row_heading level0 row0\" >Friday</th>\n",
       "                        <td id=\"T_2f843_row0_col0\" class=\"data row0 col0\" >14.466816</td>\n",
       "                        <td id=\"T_2f843_row0_col1\" class=\"data row0 col1\" >14.425428</td>\n",
       "            </tr>\n",
       "            <tr>\n",
       "                        <th id=\"T_2f843_level0_row1\" class=\"row_heading level0 row1\" >Monday</th>\n",
       "                        <td id=\"T_2f843_row1_col0\" class=\"data row1 col0\" >12.975391</td>\n",
       "                        <td id=\"T_2f843_row1_col1\" class=\"data row1 col1\" >13.121434</td>\n",
       "            </tr>\n",
       "            <tr>\n",
       "                        <th id=\"T_2f843_level0_row2\" class=\"row_heading level0 row2\" >Saturday</th>\n",
       "                        <td id=\"T_2f843_row2_col0\" class=\"data row2 col0\" >14.541387</td>\n",
       "                        <td id=\"T_2f843_row2_col1\" class=\"data row2 col1\" >14.506927</td>\n",
       "            </tr>\n",
       "            <tr>\n",
       "                        <th id=\"T_2f843_level0_row3\" class=\"row_heading level0 row3\" >Sunday</th>\n",
       "                        <td id=\"T_2f843_row3_col0\" class=\"data row3 col0\" >14.615958</td>\n",
       "                        <td id=\"T_2f843_row3_col1\" class=\"data row3 col1\" >14.506927</td>\n",
       "            </tr>\n",
       "            <tr>\n",
       "                        <th id=\"T_2f843_level0_row4\" class=\"row_heading level0 row4\" >Thursday</th>\n",
       "                        <td id=\"T_2f843_row4_col0\" class=\"data row4 col0\" >14.466816</td>\n",
       "                        <td id=\"T_2f843_row4_col1\" class=\"data row4 col1\" >14.425428</td>\n",
       "            </tr>\n",
       "            <tr>\n",
       "                        <th id=\"T_2f843_level0_row5\" class=\"row_heading level0 row5\" >Tuesday</th>\n",
       "                        <td id=\"T_2f843_row5_col0\" class=\"data row5 col0\" >14.541387</td>\n",
       "                        <td id=\"T_2f843_row5_col1\" class=\"data row5 col1\" >14.588427</td>\n",
       "            </tr>\n",
       "            <tr>\n",
       "                        <th id=\"T_2f843_level0_row6\" class=\"row_heading level0 row6\" >Wednesday</th>\n",
       "                        <td id=\"T_2f843_row6_col0\" class=\"data row6 col0\" >14.392245</td>\n",
       "                        <td id=\"T_2f843_row6_col1\" class=\"data row6 col1\" >14.425428</td>\n",
       "            </tr>\n",
       "    </tbody></table>"
      ],
      "text/plain": [
       "<pandas.io.formats.style.Styler at 0x7f0596b0a850>"
      ]
     },
     "metadata": {},
     "output_type": "display_data"
    },
    {
     "name": "stdout",
     "output_type": "stream",
     "text": [
      "\n",
      "\n",
      "\n"
     ]
    },
    {
     "data": {
      "text/html": [
       "<b>Africa</b>"
      ],
      "text/plain": [
       "<IPython.core.display.HTML object>"
      ]
     },
     "metadata": {},
     "output_type": "display_data"
    },
    {
     "data": {
      "text/html": [
       "<style  type=\"text/css\" >\n",
       "#T_ecda0_row0_col0,#T_ecda0_row4_col0,#T_ecda0_row6_col1{\n",
       "            background-color:  red;\n",
       "        }#T_ecda0_row1_col0,#T_ecda0_row1_col1{\n",
       "            background-color:  green;\n",
       "        }</style><table id=\"T_ecda0_\" ><thead>    <tr>        <th class=\"blank level0\" ></th>        <th class=\"col_heading level0 col0\" >cases_cumulative</th>        <th class=\"col_heading level0 col1\" >deaths_cumulative</th>    </tr>    <tr>        <th class=\"index_name level0\" >day_name</th>        <th class=\"blank\" ></th>        <th class=\"blank\" ></th>    </tr></thead><tbody>\n",
       "                <tr>\n",
       "                        <th id=\"T_ecda0_level0_row0\" class=\"row_heading level0 row0\" >Friday</th>\n",
       "                        <td id=\"T_ecda0_row0_col0\" class=\"data row0 col0\" >14.608696</td>\n",
       "                        <td id=\"T_ecda0_row0_col1\" class=\"data row0 col1\" >14.479215</td>\n",
       "            </tr>\n",
       "            <tr>\n",
       "                        <th id=\"T_ecda0_level0_row1\" class=\"row_heading level0 row1\" >Monday</th>\n",
       "                        <td id=\"T_ecda0_row1_col0\" class=\"data row1 col0\" >12.800000</td>\n",
       "                        <td id=\"T_ecda0_row1_col1\" class=\"data row1 col1\" >13.171415</td>\n",
       "            </tr>\n",
       "            <tr>\n",
       "                        <th id=\"T_ecda0_level0_row2\" class=\"row_heading level0 row2\" >Saturday</th>\n",
       "                        <td id=\"T_ecda0_row2_col0\" class=\"data row2 col0\" >14.539130</td>\n",
       "                        <td id=\"T_ecda0_row2_col1\" class=\"data row2 col1\" >14.525922</td>\n",
       "            </tr>\n",
       "            <tr>\n",
       "                        <th id=\"T_ecda0_level0_row3\" class=\"row_heading level0 row3\" >Sunday</th>\n",
       "                        <td id=\"T_ecda0_row3_col0\" class=\"data row3 col0\" >14.330435</td>\n",
       "                        <td id=\"T_ecda0_row3_col1\" class=\"data row3 col1\" >14.245680</td>\n",
       "            </tr>\n",
       "            <tr>\n",
       "                        <th id=\"T_ecda0_level0_row4\" class=\"row_heading level0 row4\" >Thursday</th>\n",
       "                        <td id=\"T_ecda0_row4_col0\" class=\"data row4 col0\" >14.608696</td>\n",
       "                        <td id=\"T_ecda0_row4_col1\" class=\"data row4 col1\" >14.479215</td>\n",
       "            </tr>\n",
       "            <tr>\n",
       "                        <th id=\"T_ecda0_level0_row5\" class=\"row_heading level0 row5\" >Tuesday</th>\n",
       "                        <td id=\"T_ecda0_row5_col0\" class=\"data row5 col0\" >14.573913</td>\n",
       "                        <td id=\"T_ecda0_row5_col1\" class=\"data row5 col1\" >14.525922</td>\n",
       "            </tr>\n",
       "            <tr>\n",
       "                        <th id=\"T_ecda0_level0_row6\" class=\"row_heading level0 row6\" >Wednesday</th>\n",
       "                        <td id=\"T_ecda0_row6_col0\" class=\"data row6 col0\" >14.539130</td>\n",
       "                        <td id=\"T_ecda0_row6_col1\" class=\"data row6 col1\" >14.572630</td>\n",
       "            </tr>\n",
       "    </tbody></table>"
      ],
      "text/plain": [
       "<pandas.io.formats.style.Styler at 0x7f0596f51280>"
      ]
     },
     "metadata": {},
     "output_type": "display_data"
    },
    {
     "name": "stdout",
     "output_type": "stream",
     "text": [
      "\n",
      "\n",
      "\n"
     ]
    },
    {
     "data": {
      "text/html": [
       "<b>Western Pacific</b>"
      ],
      "text/plain": [
       "<IPython.core.display.HTML object>"
      ]
     },
     "metadata": {},
     "output_type": "display_data"
    },
    {
     "data": {
      "text/html": [
       "<style  type=\"text/css\" >\n",
       "#T_f5271_row1_col0,#T_f5271_row1_col1{\n",
       "            background-color:  green;\n",
       "        }#T_f5271_row3_col1,#T_f5271_row5_col0{\n",
       "            background-color:  red;\n",
       "        }</style><table id=\"T_f5271_\" ><thead>    <tr>        <th class=\"blank level0\" ></th>        <th class=\"col_heading level0 col0\" >cases_cumulative</th>        <th class=\"col_heading level0 col1\" >deaths_cumulative</th>    </tr>    <tr>        <th class=\"index_name level0\" >day_name</th>        <th class=\"blank\" ></th>        <th class=\"blank\" ></th>    </tr></thead><tbody>\n",
       "                <tr>\n",
       "                        <th id=\"T_f5271_level0_row0\" class=\"row_heading level0 row0\" >Friday</th>\n",
       "                        <td id=\"T_f5271_row0_col0\" class=\"data row0 col0\" >14.203138</td>\n",
       "                        <td id=\"T_f5271_row0_col1\" class=\"data row0 col1\" >14.307229</td>\n",
       "            </tr>\n",
       "            <tr>\n",
       "                        <th id=\"T_f5271_level0_row1\" class=\"row_heading level0 row1\" >Monday</th>\n",
       "                        <td id=\"T_f5271_row1_col0\" class=\"data row1 col0\" >13.377374</td>\n",
       "                        <td id=\"T_f5271_row1_col1\" class=\"data row1 col1\" >13.554217</td>\n",
       "            </tr>\n",
       "            <tr>\n",
       "                        <th id=\"T_f5271_level0_row2\" class=\"row_heading level0 row2\" >Saturday</th>\n",
       "                        <td id=\"T_f5271_row2_col0\" class=\"data row2 col0\" >14.616020</td>\n",
       "                        <td id=\"T_f5271_row2_col1\" class=\"data row2 col1\" >14.457831</td>\n",
       "            </tr>\n",
       "            <tr>\n",
       "                        <th id=\"T_f5271_level0_row3\" class=\"row_heading level0 row3\" >Sunday</th>\n",
       "                        <td id=\"T_f5271_row3_col0\" class=\"data row3 col0\" >14.368291</td>\n",
       "                        <td id=\"T_f5271_row3_col1\" class=\"data row3 col1\" >14.608434</td>\n",
       "            </tr>\n",
       "            <tr>\n",
       "                        <th id=\"T_f5271_level0_row4\" class=\"row_heading level0 row4\" >Thursday</th>\n",
       "                        <td id=\"T_f5271_row4_col0\" class=\"data row4 col0\" >14.450867</td>\n",
       "                        <td id=\"T_f5271_row4_col1\" class=\"data row4 col1\" >14.307229</td>\n",
       "            </tr>\n",
       "            <tr>\n",
       "                        <th id=\"T_f5271_level0_row5\" class=\"row_heading level0 row5\" >Tuesday</th>\n",
       "                        <td id=\"T_f5271_row5_col0\" class=\"data row5 col0\" >14.698596</td>\n",
       "                        <td id=\"T_f5271_row5_col1\" class=\"data row5 col1\" >14.457831</td>\n",
       "            </tr>\n",
       "            <tr>\n",
       "                        <th id=\"T_f5271_level0_row6\" class=\"row_heading level0 row6\" >Wednesday</th>\n",
       "                        <td id=\"T_f5271_row6_col0\" class=\"data row6 col0\" >14.285714</td>\n",
       "                        <td id=\"T_f5271_row6_col1\" class=\"data row6 col1\" >14.307229</td>\n",
       "            </tr>\n",
       "    </tbody></table>"
      ],
      "text/plain": [
       "<pandas.io.formats.style.Styler at 0x7f059214fa30>"
      ]
     },
     "metadata": {},
     "output_type": "display_data"
    },
    {
     "name": "stdout",
     "output_type": "stream",
     "text": [
      "\n",
      "\n",
      "\n"
     ]
    },
    {
     "data": {
      "text/html": [
       "<b>Other</b>"
      ],
      "text/plain": [
       "<IPython.core.display.HTML object>"
      ]
     },
     "metadata": {},
     "output_type": "display_data"
    },
    {
     "data": {
      "text/html": [
       "<style  type=\"text/css\" >\n",
       "#T_d8536_row0_col0,#T_d8536_row0_col1,#T_d8536_row1_col0,#T_d8536_row1_col1,#T_d8536_row2_col0,#T_d8536_row2_col1,#T_d8536_row3_col0,#T_d8536_row3_col1,#T_d8536_row4_col0,#T_d8536_row4_col1,#T_d8536_row5_col0,#T_d8536_row5_col1,#T_d8536_row6_col0,#T_d8536_row6_col1{\n",
       "            background-color:  red;\n",
       "            background-color:  green;\n",
       "        }</style><table id=\"T_d8536_\" ><thead>    <tr>        <th class=\"blank level0\" ></th>        <th class=\"col_heading level0 col0\" >cases_cumulative</th>        <th class=\"col_heading level0 col1\" >deaths_cumulative</th>    </tr>    <tr>        <th class=\"index_name level0\" >day_name</th>        <th class=\"blank\" ></th>        <th class=\"blank\" ></th>    </tr></thead><tbody>\n",
       "                <tr>\n",
       "                        <th id=\"T_d8536_level0_row0\" class=\"row_heading level0 row0\" >Friday</th>\n",
       "                        <td id=\"T_d8536_row0_col0\" class=\"data row0 col0\" >14.285714</td>\n",
       "                        <td id=\"T_d8536_row0_col1\" class=\"data row0 col1\" >14.285714</td>\n",
       "            </tr>\n",
       "            <tr>\n",
       "                        <th id=\"T_d8536_level0_row1\" class=\"row_heading level0 row1\" >Monday</th>\n",
       "                        <td id=\"T_d8536_row1_col0\" class=\"data row1 col0\" >14.285714</td>\n",
       "                        <td id=\"T_d8536_row1_col1\" class=\"data row1 col1\" >14.285714</td>\n",
       "            </tr>\n",
       "            <tr>\n",
       "                        <th id=\"T_d8536_level0_row2\" class=\"row_heading level0 row2\" >Saturday</th>\n",
       "                        <td id=\"T_d8536_row2_col0\" class=\"data row2 col0\" >14.285714</td>\n",
       "                        <td id=\"T_d8536_row2_col1\" class=\"data row2 col1\" >14.285714</td>\n",
       "            </tr>\n",
       "            <tr>\n",
       "                        <th id=\"T_d8536_level0_row3\" class=\"row_heading level0 row3\" >Sunday</th>\n",
       "                        <td id=\"T_d8536_row3_col0\" class=\"data row3 col0\" >14.285714</td>\n",
       "                        <td id=\"T_d8536_row3_col1\" class=\"data row3 col1\" >14.285714</td>\n",
       "            </tr>\n",
       "            <tr>\n",
       "                        <th id=\"T_d8536_level0_row4\" class=\"row_heading level0 row4\" >Thursday</th>\n",
       "                        <td id=\"T_d8536_row4_col0\" class=\"data row4 col0\" >14.285714</td>\n",
       "                        <td id=\"T_d8536_row4_col1\" class=\"data row4 col1\" >14.285714</td>\n",
       "            </tr>\n",
       "            <tr>\n",
       "                        <th id=\"T_d8536_level0_row5\" class=\"row_heading level0 row5\" >Tuesday</th>\n",
       "                        <td id=\"T_d8536_row5_col0\" class=\"data row5 col0\" >14.285714</td>\n",
       "                        <td id=\"T_d8536_row5_col1\" class=\"data row5 col1\" >14.285714</td>\n",
       "            </tr>\n",
       "            <tr>\n",
       "                        <th id=\"T_d8536_level0_row6\" class=\"row_heading level0 row6\" >Wednesday</th>\n",
       "                        <td id=\"T_d8536_row6_col0\" class=\"data row6 col0\" >14.285714</td>\n",
       "                        <td id=\"T_d8536_row6_col1\" class=\"data row6 col1\" >14.285714</td>\n",
       "            </tr>\n",
       "    </tbody></table>"
      ],
      "text/plain": [
       "<pandas.io.formats.style.Styler at 0x7f059214ffa0>"
      ]
     },
     "metadata": {},
     "output_type": "display_data"
    },
    {
     "name": "stdout",
     "output_type": "stream",
     "text": [
      "\n",
      "\n",
      "\n"
     ]
    }
   ],
   "source": [
    "for region in timeseries.WHO_Region.unique():\n",
    "    if isinstance(region, str):\n",
    "        display(HTML(f\"<b>{region}</b>\"))\n",
    "        display(show_week_day_statistic(timeseries.query(\"WHO_Region==@region\")))\n",
    "        print(\"\\n\\n\")"
   ]
  }
 ],
 "metadata": {
  "kernelspec": {
   "display_name": "Python 3",
   "language": "python",
   "name": "python3"
  },
  "language_info": {
   "codemirror_mode": {
    "name": "ipython",
    "version": 3
   },
   "file_extension": ".py",
   "mimetype": "text/x-python",
   "name": "python",
   "nbconvert_exporter": "python",
   "pygments_lexer": "ipython3",
   "version": "3.9.1"
  }
 },
 "nbformat": 4,
 "nbformat_minor": 5
}
