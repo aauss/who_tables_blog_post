{
 "cells": [
  {
   "cell_type": "code",
   "execution_count": 1,
   "id": "northern-landing",
   "metadata": {},
   "outputs": [],
   "source": [
    "%load_ext lab_black"
   ]
  },
  {
   "cell_type": "code",
   "execution_count": 2,
   "id": "japanese-charity",
   "metadata": {},
   "outputs": [],
   "source": [
    "from pathlib import Path\n",
    "\n",
    "import matplotlib.pyplot as plt\n",
    "import pandas as pd\n",
    "import os\n",
    "import re"
   ]
  },
  {
   "cell_type": "markdown",
   "id": "driving-optimum",
   "metadata": {},
   "source": [
    "# Checking the quality and predictive power of WHO Data on COVID-19"
   ]
  },
  {
   "cell_type": "markdown",
   "id": "proved-information",
   "metadata": {},
   "source": [
    "# Business Understanding\n",
    "The WHO - the public health agency of the UN - has the goal to achiev the attainment of the highest possible level of health for everyone. During a pandemic, this mission becomes particularly important and difficult since the high communicability and the potentially severe course of COVID-19 imposes a large burden on people and their health system independent of any borders.\n",
    "\n",
    "To mitigate the effects of disease outbreaks, the WHO monitors public health risks and coordinates responses to health emergencies. WHO's actions depends on their collected data. [This dashboard](https://covid19.who.int/) is one of WHOs publically available information on COVID.\n",
    "\n",
    "## Questions\n",
    "- How good is the data used by the WHO?\n",
    "- Are high incidences spatially bound (i.e., stay within a region)?\n",
    "- Are epidemiological assessments increasing the performance of a machine-learning model additional to raw data? "
   ]
  },
  {
   "cell_type": "markdown",
   "id": "familiar-endorsement",
   "metadata": {},
   "source": [
    "## Data Preparation\n",
    "\n",
    "The data was scraped using `scheduler.py`. Its mechanic is described in `scrape.ipynb`. We read in all scraped data which are a snapshot of [WHO's dashboard on COVID-19 infections](https://covid19.who.int/) and concate them to a dataframe that also functions as a timeseries."
   ]
  },
  {
   "cell_type": "code",
   "execution_count": 3,
   "id": "coastal-output",
   "metadata": {},
   "outputs": [],
   "source": [
    "tables = os.listdir(\"scraped/\")\n",
    "timeseries = pd.concat(\n",
    "    [\n",
    "        pd.read_csv(\"scraped/\" + file_).assign(\n",
    "            date=re.match(r\"\\D+(\\d{4}-\\d{2}-\\d{2}).+\", file_)[1]\n",
    "        )\n",
    "        for file_ in tables\n",
    "    ]\n",
    ")"
   ]
  },
  {
   "cell_type": "code",
   "execution_count": 4,
   "id": "ignored-mounting",
   "metadata": {},
   "outputs": [
    {
     "data": {
      "text/html": [
       "<div>\n",
       "<style scoped>\n",
       "    .dataframe tbody tr th:only-of-type {\n",
       "        vertical-align: middle;\n",
       "    }\n",
       "\n",
       "    .dataframe tbody tr th {\n",
       "        vertical-align: top;\n",
       "    }\n",
       "\n",
       "    .dataframe thead th {\n",
       "        text-align: right;\n",
       "    }\n",
       "</style>\n",
       "<table border=\"1\" class=\"dataframe\">\n",
       "  <thead>\n",
       "    <tr style=\"text-align: right;\">\n",
       "      <th></th>\n",
       "      <th>WHO_Name</th>\n",
       "      <th>WHO_Region</th>\n",
       "      <th>Cases - cumulative total</th>\n",
       "      <th>Cases - cumulative total per 1 million population</th>\n",
       "      <th>Cases - newly reported in last 7 days</th>\n",
       "      <th>Cases - newly reported in last 24 hours</th>\n",
       "      <th>Deaths - cumulative total</th>\n",
       "      <th>Deaths - cumulative total per 1 million population</th>\n",
       "      <th>Deaths - newly reported in last 7 days</th>\n",
       "      <th>Deaths - newly reported in last 24 hours</th>\n",
       "      <th>Transmission Classification</th>\n",
       "      <th>date</th>\n",
       "    </tr>\n",
       "  </thead>\n",
       "  <tbody>\n",
       "    <tr>\n",
       "      <th>233</th>\n",
       "      <td>Saint Helena</td>\n",
       "      <td>Africa</td>\n",
       "      <td>0.0</td>\n",
       "      <td>0.0</td>\n",
       "      <td>0.0</td>\n",
       "      <td>0.0</td>\n",
       "      <td>0.0</td>\n",
       "      <td>0.0</td>\n",
       "      <td>0.0</td>\n",
       "      <td>0.0</td>\n",
       "      <td>No cases</td>\n",
       "      <td>2021-01-30</td>\n",
       "    </tr>\n",
       "    <tr>\n",
       "      <th>234</th>\n",
       "      <td>Tokelau</td>\n",
       "      <td>Western Pacific</td>\n",
       "      <td>0.0</td>\n",
       "      <td>0.0</td>\n",
       "      <td>0.0</td>\n",
       "      <td>0.0</td>\n",
       "      <td>0.0</td>\n",
       "      <td>0.0</td>\n",
       "      <td>0.0</td>\n",
       "      <td>0.0</td>\n",
       "      <td>No cases</td>\n",
       "      <td>2021-01-30</td>\n",
       "    </tr>\n",
       "    <tr>\n",
       "      <th>235</th>\n",
       "      <td>Tonga</td>\n",
       "      <td>Western Pacific</td>\n",
       "      <td>0.0</td>\n",
       "      <td>0.0</td>\n",
       "      <td>0.0</td>\n",
       "      <td>0.0</td>\n",
       "      <td>0.0</td>\n",
       "      <td>0.0</td>\n",
       "      <td>0.0</td>\n",
       "      <td>0.0</td>\n",
       "      <td>No cases</td>\n",
       "      <td>2021-01-30</td>\n",
       "    </tr>\n",
       "    <tr>\n",
       "      <th>236</th>\n",
       "      <td>Turkmenistan</td>\n",
       "      <td>Europe</td>\n",
       "      <td>0.0</td>\n",
       "      <td>0.0</td>\n",
       "      <td>0.0</td>\n",
       "      <td>0.0</td>\n",
       "      <td>0.0</td>\n",
       "      <td>0.0</td>\n",
       "      <td>0.0</td>\n",
       "      <td>0.0</td>\n",
       "      <td>No cases</td>\n",
       "      <td>2021-01-30</td>\n",
       "    </tr>\n",
       "    <tr>\n",
       "      <th>237</th>\n",
       "      <td>Tuvalu</td>\n",
       "      <td>Western Pacific</td>\n",
       "      <td>0.0</td>\n",
       "      <td>0.0</td>\n",
       "      <td>0.0</td>\n",
       "      <td>0.0</td>\n",
       "      <td>0.0</td>\n",
       "      <td>0.0</td>\n",
       "      <td>0.0</td>\n",
       "      <td>0.0</td>\n",
       "      <td>No cases</td>\n",
       "      <td>2021-01-30</td>\n",
       "    </tr>\n",
       "  </tbody>\n",
       "</table>\n",
       "</div>"
      ],
      "text/plain": [
       "         WHO_Name       WHO_Region  Cases - cumulative total  \\\n",
       "233  Saint Helena           Africa                       0.0   \n",
       "234       Tokelau  Western Pacific                       0.0   \n",
       "235         Tonga  Western Pacific                       0.0   \n",
       "236  Turkmenistan           Europe                       0.0   \n",
       "237        Tuvalu  Western Pacific                       0.0   \n",
       "\n",
       "     Cases - cumulative total per 1 million population  \\\n",
       "233                                                0.0   \n",
       "234                                                0.0   \n",
       "235                                                0.0   \n",
       "236                                                0.0   \n",
       "237                                                0.0   \n",
       "\n",
       "     Cases - newly reported in last 7 days  \\\n",
       "233                                    0.0   \n",
       "234                                    0.0   \n",
       "235                                    0.0   \n",
       "236                                    0.0   \n",
       "237                                    0.0   \n",
       "\n",
       "     Cases - newly reported in last 24 hours  Deaths - cumulative total  \\\n",
       "233                                      0.0                        0.0   \n",
       "234                                      0.0                        0.0   \n",
       "235                                      0.0                        0.0   \n",
       "236                                      0.0                        0.0   \n",
       "237                                      0.0                        0.0   \n",
       "\n",
       "     Deaths - cumulative total per 1 million population  \\\n",
       "233                                                0.0    \n",
       "234                                                0.0    \n",
       "235                                                0.0    \n",
       "236                                                0.0    \n",
       "237                                                0.0    \n",
       "\n",
       "     Deaths - newly reported in last 7 days  \\\n",
       "233                                     0.0   \n",
       "234                                     0.0   \n",
       "235                                     0.0   \n",
       "236                                     0.0   \n",
       "237                                     0.0   \n",
       "\n",
       "     Deaths - newly reported in last 24 hours Transmission Classification  \\\n",
       "233                                       0.0                    No cases   \n",
       "234                                       0.0                    No cases   \n",
       "235                                       0.0                    No cases   \n",
       "236                                       0.0                    No cases   \n",
       "237                                       0.0                    No cases   \n",
       "\n",
       "           date  \n",
       "233  2021-01-30  \n",
       "234  2021-01-30  \n",
       "235  2021-01-30  \n",
       "236  2021-01-30  \n",
       "237  2021-01-30  "
      ]
     },
     "execution_count": 4,
     "metadata": {},
     "output_type": "execute_result"
    }
   ],
   "source": [
    "timeseries.tail()"
   ]
  },
  {
   "cell_type": "markdown",
   "id": "desirable-court",
   "metadata": {},
   "source": [
    "### Question 1: How good is the data used by the WHO?\n",
    "In the following I will try to answer the consistancy of the data set and the reporting behavior."
   ]
  },
  {
   "cell_type": "markdown",
   "id": "requested-liability",
   "metadata": {},
   "source": [
    "#### Missing data\n",
    "Generally, missing data in this dataset is seldom. There is no variable that has over 1% missing data. But is the data really this good?"
   ]
  },
  {
   "cell_type": "code",
   "execution_count": 5,
   "id": "diagnostic-election",
   "metadata": {},
   "outputs": [
    {
     "data": {
      "text/plain": [
       "WHO_Name                                              0.000000\n",
       "WHO_Region                                            0.637245\n",
       "Cases - cumulative total                              0.216934\n",
       "Cases - cumulative total per 1 million population     0.637245\n",
       "Cases - newly reported in last 7 days                 0.216934\n",
       "Cases - newly reported in last 24 hours               0.216934\n",
       "Deaths - cumulative total                             0.216934\n",
       "Deaths - cumulative total per 1 million population    0.637245\n",
       "Deaths - newly reported in last 7 days                0.216934\n",
       "Deaths - newly reported in last 24 hours              0.216934\n",
       "Transmission Classification                           0.637245\n",
       "date                                                  0.000000\n",
       "dtype: float64"
      ]
     },
     "execution_count": 5,
     "metadata": {},
     "output_type": "execute_result"
    }
   ],
   "source": [
    "timeseries.isna().sum() / timeseries.shape[0] * 100"
   ]
  },
  {
   "cell_type": "markdown",
   "id": "complete-dominican",
   "metadata": {},
   "source": [
    "#### Consitancy\n",
    "Let's check the cumulative counts. Per definition, these numbers cannot decrease. So a value from one day to the other is either larger or equally large. How many entries in this data set satisfy this criterion?"
   ]
  },
  {
   "cell_type": "code",
   "execution_count": 6,
   "id": "treated-wedding",
   "metadata": {},
   "outputs": [],
   "source": [
    "def create_diff(timespan):\n",
    "    return (\n",
    "        timeseries.sort_values(by=[\"WHO_Name\", \"date\"])\n",
    "        .set_index([\"WHO_Name\", \"date\"])\n",
    "        .groupby(\"WHO_Name\")[[\"Cases - cumulative total\", \"Deaths - cumulative total\"]]\n",
    "        .diff(timespan)\n",
    "    )"
   ]
  },
  {
   "cell_type": "code",
   "execution_count": 7,
   "id": "velvet-punishment",
   "metadata": {},
   "outputs": [
    {
     "name": "stdout",
     "output_type": "stream",
     "text": [
      "0.09 % of the cumulative cases decrease from one day to the other\n",
      "0.06 % of the cumulative deaths decrease from one day to the other\n"
     ]
    }
   ],
   "source": [
    "diff_one = create_diff(1)\n",
    "\n",
    "print(\n",
    "    round(\n",
    "        len(diff_one[diff_one[\"Cases - cumulative total\"] < 0]) / len(diff_one) * 100,\n",
    "        ndigits=2,\n",
    "    ),\n",
    "    \"% of the cumulative cases decrease from one day to the other\",\n",
    ")\n",
    "\n",
    "print(\n",
    "    round(\n",
    "        len(diff_one[diff_one[\"Deaths - cumulative total\"] < 0]) / len(diff_one) * 100,\n",
    "        ndigits=2,\n",
    "    ),\n",
    "    \"% of the cumulative deaths decrease from one day to the other\",\n",
    ")"
   ]
  },
  {
   "cell_type": "markdown",
   "id": "reported-active",
   "metadata": {},
   "source": [
    "How about their information on `Cases/Deaths - newly reported in last 7 days`. This should be the same as if taking the difference between the cumulative death and case counts from 7 days ago."
   ]
  },
  {
   "cell_type": "code",
   "execution_count": 8,
   "id": "subtle-stable",
   "metadata": {},
   "outputs": [],
   "source": [
    "diff_seven = create_diff(7)"
   ]
  },
  {
   "cell_type": "code",
   "execution_count": 9,
   "id": "small-backup",
   "metadata": {},
   "outputs": [],
   "source": [
    "diffs_expected = (\n",
    "    timeseries.sort_values(by=[\"WHO_Name\", \"date\"])\n",
    "    .set_index([\"WHO_Name\", \"date\"])\n",
    "    .loc[\n",
    "        :,\n",
    "        [\n",
    "            \"Deaths - newly reported in last 7 days\",\n",
    "            \"Cases - newly reported in last 7 days\",\n",
    "        ],\n",
    "    ]\n",
    ")"
   ]
  },
  {
   "cell_type": "code",
   "execution_count": 10,
   "id": "neutral-battlefield",
   "metadata": {},
   "outputs": [],
   "source": [
    "merged = diff_seven.merge(diffs_expected, left_index=True, right_index=True).dropna()"
   ]
  },
  {
   "cell_type": "code",
   "execution_count": 11,
   "id": "revolutionary-colonial",
   "metadata": {},
   "outputs": [
    {
     "name": "stdout",
     "output_type": "stream",
     "text": [
      "83.19 % of the difference taken from the cumulative case count from 7 days ago match up with the column of newly reported deaths\n",
      "88.23 % of the difference taken from the cumulative deaths count from 7 days ago match up with the column of newly reported deaths\n"
     ]
    }
   ],
   "source": [
    "print(\n",
    "    round(\n",
    "        (\n",
    "            merged[\"Cases - cumulative total\"]\n",
    "            == merged[\"Cases - newly reported in last 7 days\"]\n",
    "        ).sum()\n",
    "        / len(merged)\n",
    "        * 100,\n",
    "        ndigits=2,\n",
    "    ),\n",
    "    \"% of the difference taken from the cumulative case count from 7 days ago match up with the column of newly reported deaths\",\n",
    ")\n",
    "\n",
    "print(\n",
    "    round(\n",
    "        (\n",
    "            merged[\"Deaths - cumulative total\"]\n",
    "            == merged[\"Deaths - newly reported in last 7 days\"]\n",
    "        ).sum()\n",
    "        / len(merged)\n",
    "        * 100,\n",
    "        ndigits=2,\n",
    "    ),\n",
    "    \"% of the difference taken from the cumulative deaths count from 7 days ago match up with the column of newly reported deaths\",\n",
    ")"
   ]
  },
  {
   "cell_type": "markdown",
   "id": "dedicated-parcel",
   "metadata": {},
   "source": [
    "#### Reporting behavior\n",
    "Within which time span are countries reporting new cases"
   ]
  },
  {
   "cell_type": "code",
   "execution_count": 12,
   "id": "sacred-landing",
   "metadata": {},
   "outputs": [],
   "source": [
    "unchanged_cases = []\n",
    "unchanged_deaths = []\n",
    "for i in range(0, 30):\n",
    "    diff_df = create_diff(i)\n",
    "    unchanged_cases.append(\n",
    "        round(\n",
    "            len(diff_df[diff_df[\"Cases - cumulative total\"] != 0]) / len(diff_df) * 100,\n",
    "            ndigits=2,\n",
    "        )\n",
    "    )\n",
    "    unchanged_deaths.append(\n",
    "        round(\n",
    "            len(diff_df[diff_df[\"Deaths - cumulative total\"] != 0])\n",
    "            / len(diff_df)\n",
    "            * 100,\n",
    "            ndigits=2,\n",
    "        )\n",
    "    )"
   ]
  },
  {
   "cell_type": "code",
   "execution_count": 13,
   "id": "laden-publicity",
   "metadata": {},
   "outputs": [
    {
     "data": {
      "image/png": "[encoded data removed]",
      "text/plain": [
       "<Figure size 432x288 with 1 Axes>"
      ]
     },
     "metadata": {
      "needs_background": "light"
     },
     "output_type": "display_data"
    }
   ],
   "source": [
    "plt.bar(range(0, 30), unchanged_cases)\n",
    "plt.title(\"Days after new case reports\")\n",
    "plt.xlabel(\"Number of days\")\n",
    "plt.xticks(range(1, 30, 2))\n",
    "plt.ylabel(\"(%) who made a report\")\n",
    "plt.show()"
   ]
  },
  {
   "cell_type": "code",
   "execution_count": 14,
   "id": "cellular-device",
   "metadata": {},
   "outputs": [
    {
     "data": {
      "image/png": "[encoded data removed]",
      "text/plain": [
       "<Figure size 432x288 with 1 Axes>"
      ]
     },
     "metadata": {
      "needs_background": "light"
     },
     "output_type": "display_data"
    }
   ],
   "source": [
    "plt.bar(range(0, 30), unchanged_deaths)\n",
    "plt.title(\"Days after new death reports\")\n",
    "plt.xlabel(\"Number of days\")\n",
    "plt.xticks(range(1, 30, 2))\n",
    "plt.ylabel(\"(%) who made a report\")\n",
    "plt.show()"
   ]
  },
  {
   "cell_type": "markdown",
   "id": "banned-humanitarian",
   "metadata": {},
   "source": [
    "We can see that most cases and deaths (16.04% and 15.84% respectively) are reported on a Monday and the least on Sunday (13.72% of the cases and 13.79% of the deaths). This could explain why not the strong manjority reports new numbers every day besides not having anything to report: There is a reporting gap during the weekend."
   ]
  },
  {
   "cell_type": "code",
   "execution_count": 32,
   "id": "extra-diamond",
   "metadata": {},
   "outputs": [],
   "source": [
    "week_day_statistic = (\n",
    "    timeseries.assign(\n",
    "        day_name=lambda x: x.date.apply(lambda y: pd.to_datetime(y).day_name())\n",
    "    )\n",
    "    .sort_values(by=[\"WHO_Name\", \"date\"])\n",
    "    .set_index([\"WHO_Name\", \"date\", \"day_name\"])\n",
    "    .groupby([\"WHO_Name\", \"day_name\"])[\n",
    "        [\"Cases - cumulative total\", \"Deaths - cumulative total\"]\n",
    "    ]\n",
    "    .diff(1)\n",
    "    .groupby(\"day_name\")\n",
    "    .mean()\n",
    ")"
   ]
  },
  {
   "cell_type": "code",
   "execution_count": 39,
   "id": "prospective-indonesia",
   "metadata": {},
   "outputs": [
    {
     "data": {
      "text/html": [
       "<div>\n",
       "<style scoped>\n",
       "    .dataframe tbody tr th:only-of-type {\n",
       "        vertical-align: middle;\n",
       "    }\n",
       "\n",
       "    .dataframe tbody tr th {\n",
       "        vertical-align: top;\n",
       "    }\n",
       "\n",
       "    .dataframe thead th {\n",
       "        text-align: right;\n",
       "    }\n",
       "</style>\n",
       "<table border=\"1\" class=\"dataframe\">\n",
       "  <thead>\n",
       "    <tr style=\"text-align: right;\">\n",
       "      <th></th>\n",
       "      <th>Cases - cumulative total</th>\n",
       "      <th>Deaths - cumulative total</th>\n",
       "    </tr>\n",
       "    <tr>\n",
       "      <th>day_name</th>\n",
       "      <th></th>\n",
       "      <th></th>\n",
       "    </tr>\n",
       "  </thead>\n",
       "  <tbody>\n",
       "    <tr>\n",
       "      <th>Friday</th>\n",
       "      <td>14.04</td>\n",
       "      <td>14.16</td>\n",
       "    </tr>\n",
       "    <tr>\n",
       "      <th>Monday</th>\n",
       "      <td>16.04</td>\n",
       "      <td>15.84</td>\n",
       "    </tr>\n",
       "    <tr>\n",
       "      <th>Saturday</th>\n",
       "      <td>13.98</td>\n",
       "      <td>14.19</td>\n",
       "    </tr>\n",
       "    <tr>\n",
       "      <th>Sunday</th>\n",
       "      <td>13.72</td>\n",
       "      <td>13.79</td>\n",
       "    </tr>\n",
       "    <tr>\n",
       "      <th>Thursday</th>\n",
       "      <td>14.07</td>\n",
       "      <td>14.10</td>\n",
       "    </tr>\n",
       "    <tr>\n",
       "      <th>Tuesday</th>\n",
       "      <td>14.08</td>\n",
       "      <td>13.93</td>\n",
       "    </tr>\n",
       "    <tr>\n",
       "      <th>Wednesday</th>\n",
       "      <td>14.07</td>\n",
       "      <td>14.00</td>\n",
       "    </tr>\n",
       "  </tbody>\n",
       "</table>\n",
       "</div>"
      ],
      "text/plain": [
       "           Cases - cumulative total  Deaths - cumulative total\n",
       "day_name                                                      \n",
       "Friday                        14.04                      14.16\n",
       "Monday                        16.04                      15.84\n",
       "Saturday                      13.98                      14.19\n",
       "Sunday                        13.72                      13.79\n",
       "Thursday                      14.07                      14.10\n",
       "Tuesday                       14.08                      13.93\n",
       "Wednesday                     14.07                      14.00"
      ]
     },
     "execution_count": 39,
     "metadata": {},
     "output_type": "execute_result"
    }
   ],
   "source": [
    "round(week_day_statistic / week_day_statistic.sum() * 100, ndigits=2)"
   ]
  },
  {
   "cell_type": "code",
   "execution_count": null,
   "id": "different-evaluation",
   "metadata": {},
   "outputs": [],
   "source": []
  }
 ],
 "metadata": {
  "kernelspec": {
   "display_name": "Python 3",
   "language": "python",
   "name": "python3"
  },
  "language_info": {
   "codemirror_mode": {
    "name": "ipython",
    "version": 3
   },
   "file_extension": ".py",
   "mimetype": "text/x-python",
   "name": "python",
   "nbconvert_exporter": "python",
   "pygments_lexer": "ipython3",
   "version": "3.9.1"
  }
 },
 "nbformat": 4,
 "nbformat_minor": 5
}
